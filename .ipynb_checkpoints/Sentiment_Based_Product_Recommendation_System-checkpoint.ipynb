{
 "cells": [
  {
   "cell_type": "markdown",
   "metadata": {
    "id": "QD8KJa8toF6K"
   },
   "source": [
    "# Sentiment Based Product Recommendation System\n",
    "- A project by Mihir Pawar"
   ]
  },
  {
   "cell_type": "markdown",
   "metadata": {
    "id": "oT5pGfT3oaQO"
   },
   "source": [
    "\n",
    "\n",
    "*   The e-commerce business is quite popular today. Here, you do not need to take orders by going to each customer. A company launches its website to sell the items to the end consumer, and customers can order the products that they require from the same website. Famous examples of such e-commerce companies are Amazon, Flipkart, Myntra, Paytm and Snapdeal.\n",
    "\n",
    "*   Suppose you are working as a Machine Learning Engineer in an e-commerce company named 'Ebuss'. Ebuss has captured a huge market share in many fields, and it sells the products in various categories such as household essentials, books, personal care products, medicines, cosmetic items, beauty products, electrical appliances, kitchen and dining products and health care products.\n",
    "\n",
    "*   With the advancement in technology, it is imperative for Ebuss to grow quickly in the e-commerce market to become a major leader in the market because it has to compete with the likes of Amazon, Flipkart, etc., which are already market leaders.\n",
    "\n",
    "*  As a senior ML Engineer, you are asked to build a model that will improve the recommendations given to the users given their past reviews and ratings. \n"
   ]
  },
  {
   "cell_type": "code",
   "execution_count": 1,
   "metadata": {
    "colab": {
     "base_uri": "https://localhost:8080/"
    },
    "executionInfo": {
     "elapsed": 1527,
     "status": "ok",
     "timestamp": 1673505019958,
     "user": {
      "displayName": "mihir mihirpawar",
      "userId": "09074568654888452491"
     },
     "user_tz": -330
    },
    "id": "QSARPhpFd5S3",
    "outputId": "6691f608-7117-495a-bda7-df4150101f3c"
   },
   "outputs": [
    {
     "name": "stderr",
     "output_type": "stream",
     "text": [
      "[nltk_data] Downloading package stopwords to /root/nltk_data...\n",
      "[nltk_data]   Unzipping corpora/stopwords.zip.\n",
      "[nltk_data] Downloading package punkt to /root/nltk_data...\n",
      "[nltk_data]   Unzipping tokenizers/punkt.zip.\n",
      "[nltk_data] Downloading package averaged_perceptron_tagger to\n",
      "[nltk_data]     /root/nltk_data...\n",
      "[nltk_data]   Unzipping taggers/averaged_perceptron_tagger.zip.\n",
      "[nltk_data] Downloading package wordnet to /root/nltk_data...\n",
      "[nltk_data] Downloading package omw-1.4 to /root/nltk_data...\n"
     ]
    }
   ],
   "source": [
    "import re\n",
    "import time\n",
    "import pandas as pd\n",
    "import numpy as np\n",
    "import seaborn as sns\n",
    "import matplotlib.pyplot as plt\n",
    "from collections import Counter\n",
    "from datetime import datetime\n",
    "import warnings\n",
    "from imblearn.over_sampling import SMOTE\n",
    "from imblearn.under_sampling import RandomUnderSampler\n",
    "from imblearn.pipeline import Pipeline\n",
    "warnings.filterwarnings(\"ignore\") \n",
    "pd.set_option('display.max_columns', 200)\n",
    "pd.set_option('display.max_colwidth', 300)\n",
    "pd.set_option(\"display.precision\", 2)\n",
    "\n",
    "import nltk\n",
    "nltk.download('stopwords')\n",
    "nltk.download('punkt')\n",
    "nltk.download('averaged_perceptron_tagger')\n",
    "nltk.download('wordnet')\n",
    "nltk.download('omw-1.4')\n",
    "from nltk.corpus import stopwords\n",
    "from nltk import FreqDist\n",
    "from nltk.tokenize import word_tokenize\n",
    "from nltk.stem.wordnet import WordNetLemmatizer\n",
    "from nltk.corpus import wordnet\n",
    "from wordcloud import WordCloud\n",
    "\n",
    "from sklearn.model_selection import train_test_split\n",
    "from sklearn.feature_extraction.text import CountVectorizer, TfidfVectorizer\n",
    "from sklearn.linear_model import LogisticRegression\n",
    "from sklearn.ensemble import RandomForestClassifier\n",
    "from sklearn.naive_bayes import MultinomialNB\n",
    "import xgboost as xgb\n",
    "from xgboost import XGBClassifier\n",
    "from sklearn.metrics import accuracy_score\n",
    "from sklearn.metrics import confusion_matrix, classification_report, roc_auc_score\n",
    "from sklearn.model_selection import RandomizedSearchCV, GridSearchCV\n",
    "\n",
    "import time\n",
    "from sklearn import metrics\n",
    "import pickle\n",
    "\n",
    "from sklearn.metrics.pairwise import pairwise_distances, cosine_similarity\n",
    "\n",
    "from sklearn.preprocessing import MinMaxScaler\n",
    "from numpy import *\n",
    "\n"
   ]
  },
  {
   "cell_type": "code",
   "execution_count": 2,
   "metadata": {
    "colab": {
     "base_uri": "https://localhost:8080/",
     "height": 346
    },
    "executionInfo": {
     "elapsed": 9812,
     "status": "ok",
     "timestamp": 1673505029758,
     "user": {
      "displayName": "mihir mihirpawar",
      "userId": "09074568654888452491"
     },
     "user_tz": -330
    },
    "id": "uRJzYg8KQPcw",
    "outputId": "23226e98-e5ca-4d67-d339-8931d9f1aa5a"
   },
   "outputs": [
    {
     "name": "stdout",
     "output_type": "stream",
     "text": [
      "Looking in indexes: https://pypi.org/simple, https://us-python.pkg.dev/colab-wheels/public/simple/\n",
      "Collecting pandas==1.5.2\n",
      "  Downloading pandas-1.5.2-cp38-cp38-manylinux_2_17_x86_64.manylinux2014_x86_64.whl (12.2 MB)\n",
      "\u001b[2K     \u001b[90m━━━━━━━━━━━━━━━━━━━━━━━━━━━━━━━━━━━━━━━━\u001b[0m \u001b[32m12.2/12.2 MB\u001b[0m \u001b[31m19.8 MB/s\u001b[0m eta \u001b[36m0:00:00\u001b[0m\n",
      "\u001b[?25hRequirement already satisfied: pytz>=2020.1 in /usr/local/lib/python3.8/dist-packages (from pandas==1.5.2) (2022.7)\n",
      "Requirement already satisfied: numpy>=1.20.3 in /usr/local/lib/python3.8/dist-packages (from pandas==1.5.2) (1.21.6)\n",
      "Requirement already satisfied: python-dateutil>=2.8.1 in /usr/local/lib/python3.8/dist-packages (from pandas==1.5.2) (2.8.2)\n",
      "Requirement already satisfied: six>=1.5 in /usr/local/lib/python3.8/dist-packages (from python-dateutil>=2.8.1->pandas==1.5.2) (1.15.0)\n",
      "Installing collected packages: pandas\n",
      "  Attempting uninstall: pandas\n",
      "    Found existing installation: pandas 1.3.5\n",
      "    Uninstalling pandas-1.3.5:\n",
      "      Successfully uninstalled pandas-1.3.5\n",
      "Successfully installed pandas-1.5.2\n"
     ]
    },
    {
     "data": {
      "application/vnd.colab-display-data+json": {
       "pip_warning": {
        "packages": [
         "pandas"
        ]
       }
      }
     },
     "metadata": {},
     "output_type": "display_data"
    }
   ],
   "source": [
    "!pip install pandas==1.5.2"
   ]
  },
  {
   "cell_type": "code",
   "execution_count": 3,
   "metadata": {
    "colab": {
     "base_uri": "https://localhost:8080/"
    },
    "executionInfo": {
     "elapsed": 39,
     "status": "ok",
     "timestamp": 1673505029760,
     "user": {
      "displayName": "mihir mihirpawar",
      "userId": "09074568654888452491"
     },
     "user_tz": -330
    },
    "id": "dqTmZgy8qpo0",
    "outputId": "ddedac57-c089-45eb-f11e-823604b57bdd"
   },
   "outputs": [
    {
     "name": "stdout",
     "output_type": "stream",
     "text": [
      "0.6394267984578837\n"
     ]
    }
   ],
   "source": [
    "import random\n",
    "\n",
    "random.seed(42)\n",
    "print(random.random())"
   ]
  },
  {
   "cell_type": "code",
   "execution_count": 4,
   "metadata": {
    "executionInfo": {
     "elapsed": 31,
     "status": "ok",
     "timestamp": 1673505029761,
     "user": {
      "displayName": "mihir mihirpawar",
      "userId": "09074568654888452491"
     },
     "user_tz": -330
    },
    "id": "MIUjXEwefXJ8"
   },
   "outputs": [],
   "source": [
    "pythonpath = r\"/content/drive/MyDrive/pgdm_aiml_projects/Sentiment_Based_Product_Recommendation_System//\"\n",
    "pickle_path = r\"/content/drive/MyDrive/pgdm_aiml_projects/Sentiment_Based_Product_Recommendation_System/pickle//\""
   ]
  },
  {
   "cell_type": "code",
   "execution_count": 5,
   "metadata": {
    "executionInfo": {
     "elapsed": 1888,
     "status": "ok",
     "timestamp": 1673505031618,
     "user": {
      "displayName": "mihir mihirpawar",
      "userId": "09074568654888452491"
     },
     "user_tz": -330
    },
    "id": "JoRyC_gXZGse"
   },
   "outputs": [],
   "source": [
    "reviews_data = pd.read_csv(\"sample30.csv\")"
   ]
  },
  {
   "cell_type": "code",
   "execution_count": 6,
   "metadata": {
    "colab": {
     "base_uri": "https://localhost:8080/",
     "height": 1000
    },
    "executionInfo": {
     "elapsed": 83,
     "status": "ok",
     "timestamp": 1673505031620,
     "user": {
      "displayName": "mihir mihirpawar",
      "userId": "09074568654888452491"
     },
     "user_tz": -330
    },
    "id": "A3kPQaDKfgXh",
    "outputId": "fd91ab2e-5af6-452d-b551-8ebc52903c51"
   },
   "outputs": [
    {
     "data": {
      "text/html": [
       "\n",
       "  <div id=\"df-0ec1486a-62bf-4e43-9b4a-b854398237af\">\n",
       "    <div class=\"colab-df-container\">\n",
       "      <div>\n",
       "<style scoped>\n",
       "    .dataframe tbody tr th:only-of-type {\n",
       "        vertical-align: middle;\n",
       "    }\n",
       "\n",
       "    .dataframe tbody tr th {\n",
       "        vertical-align: top;\n",
       "    }\n",
       "\n",
       "    .dataframe thead th {\n",
       "        text-align: right;\n",
       "    }\n",
       "</style>\n",
       "<table border=\"1\" class=\"dataframe\">\n",
       "  <thead>\n",
       "    <tr style=\"text-align: right;\">\n",
       "      <th></th>\n",
       "      <th>id</th>\n",
       "      <th>brand</th>\n",
       "      <th>categories</th>\n",
       "      <th>manufacturer</th>\n",
       "      <th>name</th>\n",
       "      <th>reviews_date</th>\n",
       "      <th>reviews_didPurchase</th>\n",
       "      <th>reviews_doRecommend</th>\n",
       "      <th>reviews_rating</th>\n",
       "      <th>reviews_text</th>\n",
       "      <th>reviews_title</th>\n",
       "      <th>reviews_userCity</th>\n",
       "      <th>reviews_userProvince</th>\n",
       "      <th>reviews_username</th>\n",
       "      <th>user_sentiment</th>\n",
       "    </tr>\n",
       "  </thead>\n",
       "  <tbody>\n",
       "    <tr>\n",
       "      <th>0</th>\n",
       "      <td>AV13O1A8GV-KLJ3akUyj</td>\n",
       "      <td>Universal Music</td>\n",
       "      <td>Movies, Music &amp; Books,Music,R&amp;b,Movies &amp; TV,Movie Bundles &amp; Collections,CDs &amp; Vinyl,Rap &amp; Hip-Hop,Bass,Music on CD or Vinyl,Rap,Hip-Hop,Mainstream Rap,Pop Rap</td>\n",
       "      <td>Universal Music Group / Cash Money</td>\n",
       "      <td>Pink Friday: Roman Reloaded Re-Up (w/dvd)</td>\n",
       "      <td>2012-11-30T06:21:45.000Z</td>\n",
       "      <td>NaN</td>\n",
       "      <td>NaN</td>\n",
       "      <td>5</td>\n",
       "      <td>i love this album. it's very good. more to the hip hop side than her current pop sound.. SO HYPE! i listen to this everyday at the gym! i give it 5star rating all the way. her metaphors are just crazy.</td>\n",
       "      <td>Just Awesome</td>\n",
       "      <td>Los Angeles</td>\n",
       "      <td>NaN</td>\n",
       "      <td>joshua</td>\n",
       "      <td>Positive</td>\n",
       "    </tr>\n",
       "    <tr>\n",
       "      <th>1</th>\n",
       "      <td>AV14LG0R-jtxr-f38QfS</td>\n",
       "      <td>Lundberg</td>\n",
       "      <td>Food,Packaged Foods,Snacks,Crackers,Snacks, Cookies &amp; Chips,Rice Cakes,Cakes</td>\n",
       "      <td>Lundberg</td>\n",
       "      <td>Lundberg Organic Cinnamon Toast Rice Cakes</td>\n",
       "      <td>2017-07-09T00:00:00.000Z</td>\n",
       "      <td>True</td>\n",
       "      <td>NaN</td>\n",
       "      <td>5</td>\n",
       "      <td>Good flavor. This review was collected as part of a promotion.</td>\n",
       "      <td>Good</td>\n",
       "      <td>NaN</td>\n",
       "      <td>NaN</td>\n",
       "      <td>dorothy w</td>\n",
       "      <td>Positive</td>\n",
       "    </tr>\n",
       "    <tr>\n",
       "      <th>2</th>\n",
       "      <td>AV14LG0R-jtxr-f38QfS</td>\n",
       "      <td>Lundberg</td>\n",
       "      <td>Food,Packaged Foods,Snacks,Crackers,Snacks, Cookies &amp; Chips,Rice Cakes,Cakes</td>\n",
       "      <td>Lundberg</td>\n",
       "      <td>Lundberg Organic Cinnamon Toast Rice Cakes</td>\n",
       "      <td>2017-07-09T00:00:00.000Z</td>\n",
       "      <td>True</td>\n",
       "      <td>NaN</td>\n",
       "      <td>5</td>\n",
       "      <td>Good flavor.</td>\n",
       "      <td>Good</td>\n",
       "      <td>NaN</td>\n",
       "      <td>NaN</td>\n",
       "      <td>dorothy w</td>\n",
       "      <td>Positive</td>\n",
       "    </tr>\n",
       "    <tr>\n",
       "      <th>3</th>\n",
       "      <td>AV16khLE-jtxr-f38VFn</td>\n",
       "      <td>K-Y</td>\n",
       "      <td>Personal Care,Medicine Cabinet,Lubricant/Spermicide,Health,Sexual Wellness,Lubricants</td>\n",
       "      <td>K-Y</td>\n",
       "      <td>K-Y Love Sensuality Pleasure Gel</td>\n",
       "      <td>2016-01-06T00:00:00.000Z</td>\n",
       "      <td>False</td>\n",
       "      <td>False</td>\n",
       "      <td>1</td>\n",
       "      <td>I read through the reviews on here before looking in to buying one of the couples lubricants, and was ultimately disappointed that it didn't even live up to the reviews I had read. For starters, neither my boyfriend nor I could notice any sort of enhanced or 'captivating' sensation. What we did ...</td>\n",
       "      <td>Disappointed</td>\n",
       "      <td>NaN</td>\n",
       "      <td>NaN</td>\n",
       "      <td>rebecca</td>\n",
       "      <td>Negative</td>\n",
       "    </tr>\n",
       "    <tr>\n",
       "      <th>4</th>\n",
       "      <td>AV16khLE-jtxr-f38VFn</td>\n",
       "      <td>K-Y</td>\n",
       "      <td>Personal Care,Medicine Cabinet,Lubricant/Spermicide,Health,Sexual Wellness,Lubricants</td>\n",
       "      <td>K-Y</td>\n",
       "      <td>K-Y Love Sensuality Pleasure Gel</td>\n",
       "      <td>2016-12-21T00:00:00.000Z</td>\n",
       "      <td>False</td>\n",
       "      <td>False</td>\n",
       "      <td>1</td>\n",
       "      <td>My husband bought this gel for us. The gel caused irritation and it felt like it was burning my skin. I wouldn't recommend this gel.</td>\n",
       "      <td>Irritation</td>\n",
       "      <td>NaN</td>\n",
       "      <td>NaN</td>\n",
       "      <td>walker557</td>\n",
       "      <td>Negative</td>\n",
       "    </tr>\n",
       "  </tbody>\n",
       "</table>\n",
       "</div>\n",
       "      <button class=\"colab-df-convert\" onclick=\"convertToInteractive('df-0ec1486a-62bf-4e43-9b4a-b854398237af')\"\n",
       "              title=\"Convert this dataframe to an interactive table.\"\n",
       "              style=\"display:none;\">\n",
       "        \n",
       "  <svg xmlns=\"http://www.w3.org/2000/svg\" height=\"24px\"viewBox=\"0 0 24 24\"\n",
       "       width=\"24px\">\n",
       "    <path d=\"M0 0h24v24H0V0z\" fill=\"none\"/>\n",
       "    <path d=\"M18.56 5.44l.94 2.06.94-2.06 2.06-.94-2.06-.94-.94-2.06-.94 2.06-2.06.94zm-11 1L8.5 8.5l.94-2.06 2.06-.94-2.06-.94L8.5 2.5l-.94 2.06-2.06.94zm10 10l.94 2.06.94-2.06 2.06-.94-2.06-.94-.94-2.06-.94 2.06-2.06.94z\"/><path d=\"M17.41 7.96l-1.37-1.37c-.4-.4-.92-.59-1.43-.59-.52 0-1.04.2-1.43.59L10.3 9.45l-7.72 7.72c-.78.78-.78 2.05 0 2.83L4 21.41c.39.39.9.59 1.41.59.51 0 1.02-.2 1.41-.59l7.78-7.78 2.81-2.81c.8-.78.8-2.07 0-2.86zM5.41 20L4 18.59l7.72-7.72 1.47 1.35L5.41 20z\"/>\n",
       "  </svg>\n",
       "      </button>\n",
       "      \n",
       "  <style>\n",
       "    .colab-df-container {\n",
       "      display:flex;\n",
       "      flex-wrap:wrap;\n",
       "      gap: 12px;\n",
       "    }\n",
       "\n",
       "    .colab-df-convert {\n",
       "      background-color: #E8F0FE;\n",
       "      border: none;\n",
       "      border-radius: 50%;\n",
       "      cursor: pointer;\n",
       "      display: none;\n",
       "      fill: #1967D2;\n",
       "      height: 32px;\n",
       "      padding: 0 0 0 0;\n",
       "      width: 32px;\n",
       "    }\n",
       "\n",
       "    .colab-df-convert:hover {\n",
       "      background-color: #E2EBFA;\n",
       "      box-shadow: 0px 1px 2px rgba(60, 64, 67, 0.3), 0px 1px 3px 1px rgba(60, 64, 67, 0.15);\n",
       "      fill: #174EA6;\n",
       "    }\n",
       "\n",
       "    [theme=dark] .colab-df-convert {\n",
       "      background-color: #3B4455;\n",
       "      fill: #D2E3FC;\n",
       "    }\n",
       "\n",
       "    [theme=dark] .colab-df-convert:hover {\n",
       "      background-color: #434B5C;\n",
       "      box-shadow: 0px 1px 3px 1px rgba(0, 0, 0, 0.15);\n",
       "      filter: drop-shadow(0px 1px 2px rgba(0, 0, 0, 0.3));\n",
       "      fill: #FFFFFF;\n",
       "    }\n",
       "  </style>\n",
       "\n",
       "      <script>\n",
       "        const buttonEl =\n",
       "          document.querySelector('#df-0ec1486a-62bf-4e43-9b4a-b854398237af button.colab-df-convert');\n",
       "        buttonEl.style.display =\n",
       "          google.colab.kernel.accessAllowed ? 'block' : 'none';\n",
       "\n",
       "        async function convertToInteractive(key) {\n",
       "          const element = document.querySelector('#df-0ec1486a-62bf-4e43-9b4a-b854398237af');\n",
       "          const dataTable =\n",
       "            await google.colab.kernel.invokeFunction('convertToInteractive',\n",
       "                                                     [key], {});\n",
       "          if (!dataTable) return;\n",
       "\n",
       "          const docLinkHtml = 'Like what you see? Visit the ' +\n",
       "            '<a target=\"_blank\" href=https://colab.research.google.com/notebooks/data_table.ipynb>data table notebook</a>'\n",
       "            + ' to learn more about interactive tables.';\n",
       "          element.innerHTML = '';\n",
       "          dataTable['output_type'] = 'display_data';\n",
       "          await google.colab.output.renderOutput(dataTable, element);\n",
       "          const docLink = document.createElement('div');\n",
       "          docLink.innerHTML = docLinkHtml;\n",
       "          element.appendChild(docLink);\n",
       "        }\n",
       "      </script>\n",
       "    </div>\n",
       "  </div>\n",
       "  "
      ],
      "text/plain": [
       "                     id            brand  \\\n",
       "0  AV13O1A8GV-KLJ3akUyj  Universal Music   \n",
       "1  AV14LG0R-jtxr-f38QfS         Lundberg   \n",
       "2  AV14LG0R-jtxr-f38QfS         Lundberg   \n",
       "3  AV16khLE-jtxr-f38VFn              K-Y   \n",
       "4  AV16khLE-jtxr-f38VFn              K-Y   \n",
       "\n",
       "                                                                                                                                                       categories  \\\n",
       "0  Movies, Music & Books,Music,R&b,Movies & TV,Movie Bundles & Collections,CDs & Vinyl,Rap & Hip-Hop,Bass,Music on CD or Vinyl,Rap,Hip-Hop,Mainstream Rap,Pop Rap   \n",
       "1                                                                                    Food,Packaged Foods,Snacks,Crackers,Snacks, Cookies & Chips,Rice Cakes,Cakes   \n",
       "2                                                                                    Food,Packaged Foods,Snacks,Crackers,Snacks, Cookies & Chips,Rice Cakes,Cakes   \n",
       "3                                                                           Personal Care,Medicine Cabinet,Lubricant/Spermicide,Health,Sexual Wellness,Lubricants   \n",
       "4                                                                           Personal Care,Medicine Cabinet,Lubricant/Spermicide,Health,Sexual Wellness,Lubricants   \n",
       "\n",
       "                         manufacturer  \\\n",
       "0  Universal Music Group / Cash Money   \n",
       "1                            Lundberg   \n",
       "2                            Lundberg   \n",
       "3                                 K-Y   \n",
       "4                                 K-Y   \n",
       "\n",
       "                                         name              reviews_date  \\\n",
       "0   Pink Friday: Roman Reloaded Re-Up (w/dvd)  2012-11-30T06:21:45.000Z   \n",
       "1  Lundberg Organic Cinnamon Toast Rice Cakes  2017-07-09T00:00:00.000Z   \n",
       "2  Lundberg Organic Cinnamon Toast Rice Cakes  2017-07-09T00:00:00.000Z   \n",
       "3            K-Y Love Sensuality Pleasure Gel  2016-01-06T00:00:00.000Z   \n",
       "4            K-Y Love Sensuality Pleasure Gel  2016-12-21T00:00:00.000Z   \n",
       "\n",
       "  reviews_didPurchase reviews_doRecommend  reviews_rating  \\\n",
       "0                 NaN                 NaN               5   \n",
       "1                True                 NaN               5   \n",
       "2                True                 NaN               5   \n",
       "3               False               False               1   \n",
       "4               False               False               1   \n",
       "\n",
       "                                                                                                                                                                                                                                                                                                  reviews_text  \\\n",
       "0                                                                                                    i love this album. it's very good. more to the hip hop side than her current pop sound.. SO HYPE! i listen to this everyday at the gym! i give it 5star rating all the way. her metaphors are just crazy.   \n",
       "1                                                                                                                                                                                                                                               Good flavor. This review was collected as part of a promotion.   \n",
       "2                                                                                                                                                                                                                                                                                                 Good flavor.   \n",
       "3  I read through the reviews on here before looking in to buying one of the couples lubricants, and was ultimately disappointed that it didn't even live up to the reviews I had read. For starters, neither my boyfriend nor I could notice any sort of enhanced or 'captivating' sensation. What we did ...   \n",
       "4                                                                                                                                                                         My husband bought this gel for us. The gel caused irritation and it felt like it was burning my skin. I wouldn't recommend this gel.   \n",
       "\n",
       "  reviews_title reviews_userCity reviews_userProvince reviews_username  \\\n",
       "0  Just Awesome      Los Angeles                  NaN           joshua   \n",
       "1          Good              NaN                  NaN        dorothy w   \n",
       "2          Good              NaN                  NaN        dorothy w   \n",
       "3  Disappointed              NaN                  NaN          rebecca   \n",
       "4    Irritation              NaN                  NaN        walker557   \n",
       "\n",
       "  user_sentiment  \n",
       "0       Positive  \n",
       "1       Positive  \n",
       "2       Positive  \n",
       "3       Negative  \n",
       "4       Negative  "
      ]
     },
     "execution_count": 6,
     "metadata": {},
     "output_type": "execute_result"
    }
   ],
   "source": [
    "reviews_data.head()"
   ]
  },
  {
   "cell_type": "code",
   "execution_count": 7,
   "metadata": {
    "colab": {
     "base_uri": "https://localhost:8080/"
    },
    "executionInfo": {
     "elapsed": 81,
     "status": "ok",
     "timestamp": 1673505031621,
     "user": {
      "displayName": "mihir mihirpawar",
      "userId": "09074568654888452491"
     },
     "user_tz": -330
    },
    "id": "QaXA9SJZfj5T",
    "outputId": "c6aef57a-7022-45e6-b1e9-b8bd8977bd0e"
   },
   "outputs": [
    {
     "data": {
      "text/plain": [
       "(30000, 15)"
      ]
     },
     "execution_count": 7,
     "metadata": {},
     "output_type": "execute_result"
    }
   ],
   "source": [
    "reviews_data.shape"
   ]
  },
  {
   "cell_type": "markdown",
   "metadata": {
    "id": "5ujS_oqYo8pj"
   },
   "source": [
    "## Check for Missing values"
   ]
  },
  {
   "cell_type": "code",
   "execution_count": 8,
   "metadata": {
    "colab": {
     "base_uri": "https://localhost:8080/"
    },
    "executionInfo": {
     "elapsed": 74,
     "status": "ok",
     "timestamp": 1673505031624,
     "user": {
      "displayName": "mihir mihirpawar",
      "userId": "09074568654888452491"
     },
     "user_tz": -330
    },
    "id": "RpG19KmPgLUA",
    "outputId": "13ecfa4e-b2e3-4c76-f65e-80a5bf3e6436"
   },
   "outputs": [
    {
     "data": {
      "text/plain": [
       "reviews_userProvince    29830\n",
       "reviews_userCity        28071\n",
       "reviews_didPurchase     14068\n",
       "reviews_doRecommend      2570\n",
       "reviews_title             190\n",
       "manufacturer              141\n",
       "reviews_username           63\n",
       "reviews_date               46\n",
       "user_sentiment              1\n",
       "dtype: int64"
      ]
     },
     "execution_count": 8,
     "metadata": {},
     "output_type": "execute_result"
    }
   ],
   "source": [
    "reviews_data.loc[:, reviews_data.isna().any()].isnull().sum().sort_values(ascending=False)"
   ]
  },
  {
   "cell_type": "code",
   "execution_count": 9,
   "metadata": {
    "executionInfo": {
     "elapsed": 68,
     "status": "ok",
     "timestamp": 1673505031625,
     "user": {
      "displayName": "mihir mihirpawar",
      "userId": "09074568654888452491"
     },
     "user_tz": -330
    },
    "id": "AiJDmEjJfRGg"
   },
   "outputs": [],
   "source": [
    "# Remove the missing row of user_sentiment\n",
    "reviews_data = reviews_data[~reviews_data.user_sentiment.isnull()]"
   ]
  },
  {
   "cell_type": "markdown",
   "metadata": {
    "id": "SpRymKclpBTY"
   },
   "source": [
    "## Visualize target variable"
   ]
  },
  {
   "cell_type": "code",
   "execution_count": 10,
   "metadata": {
    "colab": {
     "base_uri": "https://localhost:8080/",
     "height": 297
    },
    "executionInfo": {
     "elapsed": 1254,
     "status": "ok",
     "timestamp": 1673505032812,
     "user": {
      "displayName": "mihir mihirpawar",
      "userId": "09074568654888452491"
     },
     "user_tz": -330
    },
    "id": "bMojbZ31jqWV",
    "outputId": "ed5b617e-8e1d-4f81-bdb1-35654b634ce2"
   },
   "outputs": [
    {
     "data": {
      "text/plain": [
       "<matplotlib.axes._subplots.AxesSubplot at 0x7fa61fe1cf40>"
      ]
     },
     "execution_count": 10,
     "metadata": {},
     "output_type": "execute_result"
    },
    {
     "data": {
      "image/png": "[encoded data removed]",
      "text/plain": [
       "<Figure size 432x288 with 1 Axes>"
      ]
     },
     "metadata": {
      "needs_background": "light"
     },
     "output_type": "display_data"
    }
   ],
   "source": [
    "#Visualize using count plot\n",
    "sns.countplot(x='user_sentiment', data= reviews_data, palette=\"Reds\")"
   ]
  },
  {
   "cell_type": "code",
   "execution_count": 11,
   "metadata": {
    "colab": {
     "base_uri": "https://localhost:8080/"
    },
    "executionInfo": {
     "elapsed": 162,
     "status": "ok",
     "timestamp": 1673505032815,
     "user": {
      "displayName": "mihir mihirpawar",
      "userId": "09074568654888452491"
     },
     "user_tz": -330
    },
    "id": "tlpRzSTcjvtL",
    "outputId": "a59a6219-1217-4ecc-a935-935815a24210"
   },
   "outputs": [
    {
     "data": {
      "text/plain": [
       "Positive    0.89\n",
       "Negative    0.11\n",
       "Name: user_sentiment, dtype: float64"
      ]
     },
     "execution_count": 11,
     "metadata": {},
     "output_type": "execute_result"
    }
   ],
   "source": [
    "#get the value count of user_sentiments column\n",
    "reviews_data[\"user_sentiment\"].value_counts(normalize=True)"
   ]
  },
  {
   "cell_type": "markdown",
   "metadata": {
    "id": "Yr9ab8WPpHLu"
   },
   "source": [
    "### There is a clear imbalace between the two classes of the target variable, which needs to be handled."
   ]
  },
  {
   "cell_type": "code",
   "execution_count": 12,
   "metadata": {
    "executionInfo": {
     "elapsed": 156,
     "status": "ok",
     "timestamp": 1673505032817,
     "user": {
      "displayName": "mihir mihirpawar",
      "userId": "09074568654888452491"
     },
     "user_tz": -330
    },
    "id": "d4x2DQX5odvF"
   },
   "outputs": [],
   "source": [
    "#map the categorical user_sentiment to numerical 1 or 0 for modelling\n",
    "reviews_data['user_sentiment'] = reviews_data['user_sentiment'].map({'Positive':1,'Negative':0})"
   ]
  },
  {
   "cell_type": "code",
   "execution_count": 13,
   "metadata": {
    "colab": {
     "base_uri": "https://localhost:8080/"
    },
    "executionInfo": {
     "elapsed": 156,
     "status": "ok",
     "timestamp": 1673505032818,
     "user": {
      "displayName": "mihir mihirpawar",
      "userId": "09074568654888452491"
     },
     "user_tz": -330
    },
    "id": "lixmQY8Rj9HC",
    "outputId": "0fc4b0de-9818-4d7d-ca0c-981a65dde431"
   },
   "outputs": [
    {
     "data": {
      "text/plain": [
       "count    29999.00\n",
       "mean         4.48\n",
       "std          0.99\n",
       "min          1.00\n",
       "25%          4.00\n",
       "50%          5.00\n",
       "75%          5.00\n",
       "max          5.00\n",
       "Name: reviews_rating, dtype: float64"
      ]
     },
     "execution_count": 13,
     "metadata": {},
     "output_type": "execute_result"
    }
   ],
   "source": [
    "reviews_data[\"reviews_rating\"].describe()"
   ]
  },
  {
   "cell_type": "code",
   "execution_count": 14,
   "metadata": {
    "colab": {
     "base_uri": "https://localhost:8080/"
    },
    "executionInfo": {
     "elapsed": 150,
     "status": "ok",
     "timestamp": 1673505032820,
     "user": {
      "displayName": "mihir mihirpawar",
      "userId": "09074568654888452491"
     },
     "user_tz": -330
    },
    "id": "lytNahIqkF8Z",
    "outputId": "a968ed37-7fd8-4da3-df91-3e6bff1e4f03"
   },
   "outputs": [
    {
     "data": {
      "text/plain": [
       "5    20830\n",
       "4     6020\n",
       "1     1384\n",
       "3     1345\n",
       "2      420\n",
       "Name: reviews_rating, dtype: int64"
      ]
     },
     "execution_count": 14,
     "metadata": {},
     "output_type": "execute_result"
    }
   ],
   "source": [
    "reviews_data[\"reviews_rating\"].value_counts()"
   ]
  },
  {
   "cell_type": "markdown",
   "metadata": {
    "id": "m7S0XhS2pVPi"
   },
   "source": [
    "## reviews_rating"
   ]
  },
  {
   "cell_type": "code",
   "execution_count": 15,
   "metadata": {
    "colab": {
     "base_uri": "https://localhost:8080/",
     "height": 297
    },
    "executionInfo": {
     "elapsed": 144,
     "status": "ok",
     "timestamp": 1673505032821,
     "user": {
      "displayName": "mihir mihirpawar",
      "userId": "09074568654888452491"
     },
     "user_tz": -330
    },
    "id": "xBYq0c7zkL6B",
    "outputId": "3c8f3e8a-12e9-483d-c0ca-f95c5c9bbbcd"
   },
   "outputs": [
    {
     "data": {
      "text/plain": [
       "<matplotlib.axes._subplots.AxesSubplot at 0x7fa61fe1cfa0>"
      ]
     },
     "execution_count": 15,
     "metadata": {},
     "output_type": "execute_result"
    },
    {
     "data": {
      "image/png": "[encoded data removed]",
      "text/plain": [
       "<Figure size 432x288 with 1 Axes>"
      ]
     },
     "metadata": {
      "needs_background": "light"
     },
     "output_type": "display_data"
    }
   ],
   "source": [
    "#visualize the user_rating..\n",
    "sns.countplot(x='reviews_rating', data= reviews_data, palette=\"Set2\")"
   ]
  },
  {
   "cell_type": "markdown",
   "metadata": {
    "id": "KJf37VZHormz"
   },
   "source": [
    "Check whether the review_rating and user_sentiments match or not."
   ]
  },
  {
   "cell_type": "code",
   "execution_count": 16,
   "metadata": {
    "colab": {
     "base_uri": "https://localhost:8080/",
     "height": 175
    },
    "executionInfo": {
     "elapsed": 128,
     "status": "ok",
     "timestamp": 1673505032822,
     "user": {
      "displayName": "mihir mihirpawar",
      "userId": "09074568654888452491"
     },
     "user_tz": -330
    },
    "id": "eC02MUD8opWZ",
    "outputId": "4b195683-4281-4b7e-8e72-b747c35d3c23"
   },
   "outputs": [
    {
     "data": {
      "text/html": [
       "\n",
       "  <div id=\"df-1ed6295d-db3b-4693-8fa7-131d9731e846\">\n",
       "    <div class=\"colab-df-container\">\n",
       "      <div>\n",
       "<style scoped>\n",
       "    .dataframe tbody tr th:only-of-type {\n",
       "        vertical-align: middle;\n",
       "    }\n",
       "\n",
       "    .dataframe tbody tr th {\n",
       "        vertical-align: top;\n",
       "    }\n",
       "\n",
       "    .dataframe thead th {\n",
       "        text-align: right;\n",
       "    }\n",
       "</style>\n",
       "<table border=\"1\" class=\"dataframe\">\n",
       "  <thead>\n",
       "    <tr style=\"text-align: right;\">\n",
       "      <th>reviews_rating</th>\n",
       "      <th>1</th>\n",
       "      <th>2</th>\n",
       "      <th>3</th>\n",
       "      <th>4</th>\n",
       "      <th>5</th>\n",
       "      <th>All</th>\n",
       "    </tr>\n",
       "    <tr>\n",
       "      <th>user_sentiment</th>\n",
       "      <th></th>\n",
       "      <th></th>\n",
       "      <th></th>\n",
       "      <th></th>\n",
       "      <th></th>\n",
       "      <th></th>\n",
       "    </tr>\n",
       "  </thead>\n",
       "  <tbody>\n",
       "    <tr>\n",
       "      <th>0</th>\n",
       "      <td>597</td>\n",
       "      <td>140</td>\n",
       "      <td>220</td>\n",
       "      <td>550</td>\n",
       "      <td>1860</td>\n",
       "      <td>3367</td>\n",
       "    </tr>\n",
       "    <tr>\n",
       "      <th>1</th>\n",
       "      <td>787</td>\n",
       "      <td>280</td>\n",
       "      <td>1125</td>\n",
       "      <td>5470</td>\n",
       "      <td>18970</td>\n",
       "      <td>26632</td>\n",
       "    </tr>\n",
       "    <tr>\n",
       "      <th>All</th>\n",
       "      <td>1384</td>\n",
       "      <td>420</td>\n",
       "      <td>1345</td>\n",
       "      <td>6020</td>\n",
       "      <td>20830</td>\n",
       "      <td>29999</td>\n",
       "    </tr>\n",
       "  </tbody>\n",
       "</table>\n",
       "</div>\n",
       "      <button class=\"colab-df-convert\" onclick=\"convertToInteractive('df-1ed6295d-db3b-4693-8fa7-131d9731e846')\"\n",
       "              title=\"Convert this dataframe to an interactive table.\"\n",
       "              style=\"display:none;\">\n",
       "        \n",
       "  <svg xmlns=\"http://www.w3.org/2000/svg\" height=\"24px\"viewBox=\"0 0 24 24\"\n",
       "       width=\"24px\">\n",
       "    <path d=\"M0 0h24v24H0V0z\" fill=\"none\"/>\n",
       "    <path d=\"M18.56 5.44l.94 2.06.94-2.06 2.06-.94-2.06-.94-.94-2.06-.94 2.06-2.06.94zm-11 1L8.5 8.5l.94-2.06 2.06-.94-2.06-.94L8.5 2.5l-.94 2.06-2.06.94zm10 10l.94 2.06.94-2.06 2.06-.94-2.06-.94-.94-2.06-.94 2.06-2.06.94z\"/><path d=\"M17.41 7.96l-1.37-1.37c-.4-.4-.92-.59-1.43-.59-.52 0-1.04.2-1.43.59L10.3 9.45l-7.72 7.72c-.78.78-.78 2.05 0 2.83L4 21.41c.39.39.9.59 1.41.59.51 0 1.02-.2 1.41-.59l7.78-7.78 2.81-2.81c.8-.78.8-2.07 0-2.86zM5.41 20L4 18.59l7.72-7.72 1.47 1.35L5.41 20z\"/>\n",
       "  </svg>\n",
       "      </button>\n",
       "      \n",
       "  <style>\n",
       "    .colab-df-container {\n",
       "      display:flex;\n",
       "      flex-wrap:wrap;\n",
       "      gap: 12px;\n",
       "    }\n",
       "\n",
       "    .colab-df-convert {\n",
       "      background-color: #E8F0FE;\n",
       "      border: none;\n",
       "      border-radius: 50%;\n",
       "      cursor: pointer;\n",
       "      display: none;\n",
       "      fill: #1967D2;\n",
       "      height: 32px;\n",
       "      padding: 0 0 0 0;\n",
       "      width: 32px;\n",
       "    }\n",
       "\n",
       "    .colab-df-convert:hover {\n",
       "      background-color: #E2EBFA;\n",
       "      box-shadow: 0px 1px 2px rgba(60, 64, 67, 0.3), 0px 1px 3px 1px rgba(60, 64, 67, 0.15);\n",
       "      fill: #174EA6;\n",
       "    }\n",
       "\n",
       "    [theme=dark] .colab-df-convert {\n",
       "      background-color: #3B4455;\n",
       "      fill: #D2E3FC;\n",
       "    }\n",
       "\n",
       "    [theme=dark] .colab-df-convert:hover {\n",
       "      background-color: #434B5C;\n",
       "      box-shadow: 0px 1px 3px 1px rgba(0, 0, 0, 0.15);\n",
       "      filter: drop-shadow(0px 1px 2px rgba(0, 0, 0, 0.3));\n",
       "      fill: #FFFFFF;\n",
       "    }\n",
       "  </style>\n",
       "\n",
       "      <script>\n",
       "        const buttonEl =\n",
       "          document.querySelector('#df-1ed6295d-db3b-4693-8fa7-131d9731e846 button.colab-df-convert');\n",
       "        buttonEl.style.display =\n",
       "          google.colab.kernel.accessAllowed ? 'block' : 'none';\n",
       "\n",
       "        async function convertToInteractive(key) {\n",
       "          const element = document.querySelector('#df-1ed6295d-db3b-4693-8fa7-131d9731e846');\n",
       "          const dataTable =\n",
       "            await google.colab.kernel.invokeFunction('convertToInteractive',\n",
       "                                                     [key], {});\n",
       "          if (!dataTable) return;\n",
       "\n",
       "          const docLinkHtml = 'Like what you see? Visit the ' +\n",
       "            '<a target=\"_blank\" href=https://colab.research.google.com/notebooks/data_table.ipynb>data table notebook</a>'\n",
       "            + ' to learn more about interactive tables.';\n",
       "          element.innerHTML = '';\n",
       "          dataTable['output_type'] = 'display_data';\n",
       "          await google.colab.output.renderOutput(dataTable, element);\n",
       "          const docLink = document.createElement('div');\n",
       "          docLink.innerHTML = docLinkHtml;\n",
       "          element.appendChild(docLink);\n",
       "        }\n",
       "      </script>\n",
       "    </div>\n",
       "  </div>\n",
       "  "
      ],
      "text/plain": [
       "reviews_rating     1    2     3     4      5    All\n",
       "user_sentiment                                     \n",
       "0                597  140   220   550   1860   3367\n",
       "1                787  280  1125  5470  18970  26632\n",
       "All             1384  420  1345  6020  20830  29999"
      ]
     },
     "execution_count": 16,
     "metadata": {},
     "output_type": "execute_result"
    }
   ],
   "source": [
    "pd.crosstab(reviews_data[\"user_sentiment\"], reviews_data[\"reviews_rating\"], margins=True)"
   ]
  },
  {
   "cell_type": "markdown",
   "metadata": {
    "id": "CUD3uiKSo7yD"
   },
   "source": [
    "As per the crosstab, we observe that there is a clear mismtach between \n",
    "review_rating and user_sentiments. \n",
    "There are records that have higher user rating but user sentiment is negative and lower user rating but user sentiment is positive. We can either clean up those records or update the target column to the correct user sentiment, so that will be helpful for modelling. \n",
    "Here, updating the user_sentiment to 0 (but was 1) when the reviews_rating is less than 4, and updating the user_sentiment to 1(but was 0), when the reviews_rating is greater than or equal to 4"
   ]
  },
  {
   "cell_type": "code",
   "execution_count": 17,
   "metadata": {
    "executionInfo": {
     "elapsed": 126,
     "status": "ok",
     "timestamp": 1673505032823,
     "user": {
      "displayName": "mihir mihirpawar",
      "userId": "09074568654888452491"
     },
     "user_tz": -330
    },
    "id": "ZaoUN78SpQj0"
   },
   "outputs": [],
   "source": [
    "reviews_data.loc[(reviews_data[\"user_sentiment\"]==1) & (reviews_data[\"reviews_rating\"]<4), \"user_sentiment\"] = 0\n",
    "reviews_data.loc[(reviews_data[\"user_sentiment\"]==0) & (reviews_data[\"reviews_rating\"]>=4), \"user_sentiment\"] = 1"
   ]
  },
  {
   "cell_type": "code",
   "execution_count": 18,
   "metadata": {
    "colab": {
     "base_uri": "https://localhost:8080/",
     "height": 175
    },
    "executionInfo": {
     "elapsed": 128,
     "status": "ok",
     "timestamp": 1673505032825,
     "user": {
      "displayName": "mihir mihirpawar",
      "userId": "09074568654888452491"
     },
     "user_tz": -330
    },
    "id": "nsEtjmUzppzN",
    "outputId": "762570eb-ffbe-4a9c-9469-a3ed47bdefe6"
   },
   "outputs": [
    {
     "data": {
      "text/html": [
       "\n",
       "  <div id=\"df-0f3511e1-82bc-4b94-bfc2-218fbd6e73a5\">\n",
       "    <div class=\"colab-df-container\">\n",
       "      <div>\n",
       "<style scoped>\n",
       "    .dataframe tbody tr th:only-of-type {\n",
       "        vertical-align: middle;\n",
       "    }\n",
       "\n",
       "    .dataframe tbody tr th {\n",
       "        vertical-align: top;\n",
       "    }\n",
       "\n",
       "    .dataframe thead th {\n",
       "        text-align: right;\n",
       "    }\n",
       "</style>\n",
       "<table border=\"1\" class=\"dataframe\">\n",
       "  <thead>\n",
       "    <tr style=\"text-align: right;\">\n",
       "      <th>reviews_rating</th>\n",
       "      <th>1</th>\n",
       "      <th>2</th>\n",
       "      <th>3</th>\n",
       "      <th>4</th>\n",
       "      <th>5</th>\n",
       "      <th>All</th>\n",
       "    </tr>\n",
       "    <tr>\n",
       "      <th>user_sentiment</th>\n",
       "      <th></th>\n",
       "      <th></th>\n",
       "      <th></th>\n",
       "      <th></th>\n",
       "      <th></th>\n",
       "      <th></th>\n",
       "    </tr>\n",
       "  </thead>\n",
       "  <tbody>\n",
       "    <tr>\n",
       "      <th>0</th>\n",
       "      <td>1384</td>\n",
       "      <td>420</td>\n",
       "      <td>1345</td>\n",
       "      <td>0</td>\n",
       "      <td>0</td>\n",
       "      <td>3149</td>\n",
       "    </tr>\n",
       "    <tr>\n",
       "      <th>1</th>\n",
       "      <td>0</td>\n",
       "      <td>0</td>\n",
       "      <td>0</td>\n",
       "      <td>6020</td>\n",
       "      <td>20830</td>\n",
       "      <td>26850</td>\n",
       "    </tr>\n",
       "    <tr>\n",
       "      <th>All</th>\n",
       "      <td>1384</td>\n",
       "      <td>420</td>\n",
       "      <td>1345</td>\n",
       "      <td>6020</td>\n",
       "      <td>20830</td>\n",
       "      <td>29999</td>\n",
       "    </tr>\n",
       "  </tbody>\n",
       "</table>\n",
       "</div>\n",
       "      <button class=\"colab-df-convert\" onclick=\"convertToInteractive('df-0f3511e1-82bc-4b94-bfc2-218fbd6e73a5')\"\n",
       "              title=\"Convert this dataframe to an interactive table.\"\n",
       "              style=\"display:none;\">\n",
       "        \n",
       "  <svg xmlns=\"http://www.w3.org/2000/svg\" height=\"24px\"viewBox=\"0 0 24 24\"\n",
       "       width=\"24px\">\n",
       "    <path d=\"M0 0h24v24H0V0z\" fill=\"none\"/>\n",
       "    <path d=\"M18.56 5.44l.94 2.06.94-2.06 2.06-.94-2.06-.94-.94-2.06-.94 2.06-2.06.94zm-11 1L8.5 8.5l.94-2.06 2.06-.94-2.06-.94L8.5 2.5l-.94 2.06-2.06.94zm10 10l.94 2.06.94-2.06 2.06-.94-2.06-.94-.94-2.06-.94 2.06-2.06.94z\"/><path d=\"M17.41 7.96l-1.37-1.37c-.4-.4-.92-.59-1.43-.59-.52 0-1.04.2-1.43.59L10.3 9.45l-7.72 7.72c-.78.78-.78 2.05 0 2.83L4 21.41c.39.39.9.59 1.41.59.51 0 1.02-.2 1.41-.59l7.78-7.78 2.81-2.81c.8-.78.8-2.07 0-2.86zM5.41 20L4 18.59l7.72-7.72 1.47 1.35L5.41 20z\"/>\n",
       "  </svg>\n",
       "      </button>\n",
       "      \n",
       "  <style>\n",
       "    .colab-df-container {\n",
       "      display:flex;\n",
       "      flex-wrap:wrap;\n",
       "      gap: 12px;\n",
       "    }\n",
       "\n",
       "    .colab-df-convert {\n",
       "      background-color: #E8F0FE;\n",
       "      border: none;\n",
       "      border-radius: 50%;\n",
       "      cursor: pointer;\n",
       "      display: none;\n",
       "      fill: #1967D2;\n",
       "      height: 32px;\n",
       "      padding: 0 0 0 0;\n",
       "      width: 32px;\n",
       "    }\n",
       "\n",
       "    .colab-df-convert:hover {\n",
       "      background-color: #E2EBFA;\n",
       "      box-shadow: 0px 1px 2px rgba(60, 64, 67, 0.3), 0px 1px 3px 1px rgba(60, 64, 67, 0.15);\n",
       "      fill: #174EA6;\n",
       "    }\n",
       "\n",
       "    [theme=dark] .colab-df-convert {\n",
       "      background-color: #3B4455;\n",
       "      fill: #D2E3FC;\n",
       "    }\n",
       "\n",
       "    [theme=dark] .colab-df-convert:hover {\n",
       "      background-color: #434B5C;\n",
       "      box-shadow: 0px 1px 3px 1px rgba(0, 0, 0, 0.15);\n",
       "      filter: drop-shadow(0px 1px 2px rgba(0, 0, 0, 0.3));\n",
       "      fill: #FFFFFF;\n",
       "    }\n",
       "  </style>\n",
       "\n",
       "      <script>\n",
       "        const buttonEl =\n",
       "          document.querySelector('#df-0f3511e1-82bc-4b94-bfc2-218fbd6e73a5 button.colab-df-convert');\n",
       "        buttonEl.style.display =\n",
       "          google.colab.kernel.accessAllowed ? 'block' : 'none';\n",
       "\n",
       "        async function convertToInteractive(key) {\n",
       "          const element = document.querySelector('#df-0f3511e1-82bc-4b94-bfc2-218fbd6e73a5');\n",
       "          const dataTable =\n",
       "            await google.colab.kernel.invokeFunction('convertToInteractive',\n",
       "                                                     [key], {});\n",
       "          if (!dataTable) return;\n",
       "\n",
       "          const docLinkHtml = 'Like what you see? Visit the ' +\n",
       "            '<a target=\"_blank\" href=https://colab.research.google.com/notebooks/data_table.ipynb>data table notebook</a>'\n",
       "            + ' to learn more about interactive tables.';\n",
       "          element.innerHTML = '';\n",
       "          dataTable['output_type'] = 'display_data';\n",
       "          await google.colab.output.renderOutput(dataTable, element);\n",
       "          const docLink = document.createElement('div');\n",
       "          docLink.innerHTML = docLinkHtml;\n",
       "          element.appendChild(docLink);\n",
       "        }\n",
       "      </script>\n",
       "    </div>\n",
       "  </div>\n",
       "  "
      ],
      "text/plain": [
       "reviews_rating     1    2     3     4      5    All\n",
       "user_sentiment                                     \n",
       "0               1384  420  1345     0      0   3149\n",
       "1                  0    0     0  6020  20830  26850\n",
       "All             1384  420  1345  6020  20830  29999"
      ]
     },
     "execution_count": 18,
     "metadata": {},
     "output_type": "execute_result"
    }
   ],
   "source": [
    "pd.crosstab(reviews_data[\"user_sentiment\"],reviews_data[\"reviews_rating\"], margins=True)"
   ]
  },
  {
   "cell_type": "markdown",
   "metadata": {
    "id": "nQosihG-pbyu"
   },
   "source": [
    "## Top 10 brands among the Positive Sentiments"
   ]
  },
  {
   "cell_type": "code",
   "execution_count": 19,
   "metadata": {
    "colab": {
     "base_uri": "https://localhost:8080/",
     "height": 467
    },
    "executionInfo": {
     "elapsed": 126,
     "status": "error",
     "timestamp": 1673505032827,
     "user": {
      "displayName": "mihir mihirpawar",
      "userId": "09074568654888452491"
     },
     "user_tz": -330
    },
    "id": "VYxd5Tm2psb8",
    "outputId": "3681e5e6-3dcd-4963-8e0e-0a5dfaef3905"
   },
   "outputs": [
    {
     "ename": "ImportError",
     "errorDetails": {
      "actions": [
       {
        "action": "open_url",
        "actionText": "Open Examples",
        "url": "/notebooks/snippets/importing_libraries.ipynb"
       }
      ]
     },
     "evalue": "ignored",
     "output_type": "error",
     "traceback": [
      "\u001b[0;31m---------------------------------------------------------------------------\u001b[0m",
      "\u001b[0;31mImportError\u001b[0m                               Traceback (most recent call last)",
      "\u001b[0;32m<ipython-input-19-c42949fc47bc>\u001b[0m in \u001b[0;36m<module>\u001b[0;34m\u001b[0m\n\u001b[1;32m      1\u001b[0m \u001b[0;31m# Filter the top 10 brands among the Positive Sentiments\u001b[0m\u001b[0;34m\u001b[0m\u001b[0;34m\u001b[0m\u001b[0;34m\u001b[0m\u001b[0m\n\u001b[0;32m----> 2\u001b[0;31m \u001b[0mreviews_data\u001b[0m\u001b[0;34m[\u001b[0m\u001b[0mreviews_data\u001b[0m\u001b[0;34m[\u001b[0m\u001b[0;34m'user_sentiment'\u001b[0m\u001b[0;34m]\u001b[0m\u001b[0;34m==\u001b[0m\u001b[0;36m1\u001b[0m\u001b[0;34m]\u001b[0m\u001b[0;34m.\u001b[0m\u001b[0mgroupby\u001b[0m\u001b[0;34m(\u001b[0m\u001b[0;34m'brand'\u001b[0m\u001b[0;34m)\u001b[0m\u001b[0;34m[\u001b[0m\u001b[0;34m'brand'\u001b[0m\u001b[0;34m]\u001b[0m\u001b[0;34m.\u001b[0m\u001b[0mcount\u001b[0m\u001b[0;34m(\u001b[0m\u001b[0;34m)\u001b[0m\u001b[0;34m.\u001b[0m\u001b[0msort_values\u001b[0m\u001b[0;34m(\u001b[0m\u001b[0mascending\u001b[0m\u001b[0;34m=\u001b[0m\u001b[0;32mFalse\u001b[0m\u001b[0;34m)\u001b[0m\u001b[0;34m[\u001b[0m\u001b[0;34m:\u001b[0m\u001b[0;36m10\u001b[0m\u001b[0;34m]\u001b[0m\u001b[0;34m.\u001b[0m\u001b[0mplot\u001b[0m\u001b[0;34m(\u001b[0m\u001b[0mkind\u001b[0m\u001b[0;34m=\u001b[0m\u001b[0;34m'bar'\u001b[0m\u001b[0;34m,\u001b[0m\u001b[0mcolor\u001b[0m\u001b[0;34m=\u001b[0m\u001b[0;34m'Green'\u001b[0m\u001b[0;34m)\u001b[0m\u001b[0;34m\u001b[0m\u001b[0;34m\u001b[0m\u001b[0m\n\u001b[0m",
      "\u001b[0;32m/usr/local/lib/python3.8/dist-packages/pandas/plotting/_core.py\u001b[0m in \u001b[0;36m__call__\u001b[0;34m(self, *args, **kwargs)\u001b[0m\n\u001b[1;32m    890\u001b[0m                 \u001b[0mFutureWarning\u001b[0m\u001b[0;34m,\u001b[0m\u001b[0;34m\u001b[0m\u001b[0;34m\u001b[0m\u001b[0m\n\u001b[1;32m    891\u001b[0m                 \u001b[0mstacklevel\u001b[0m\u001b[0;34m=\u001b[0m\u001b[0mfind_stack_level\u001b[0m\u001b[0;34m(\u001b[0m\u001b[0;34m)\u001b[0m\u001b[0;34m,\u001b[0m\u001b[0;34m\u001b[0m\u001b[0;34m\u001b[0m\u001b[0m\n\u001b[0;32m--> 892\u001b[0;31m             )\n\u001b[0m\u001b[1;32m    893\u001b[0m \u001b[0;34m\u001b[0m\u001b[0m\n\u001b[1;32m    894\u001b[0m         \u001b[0;32mif\u001b[0m \u001b[0margs\u001b[0m \u001b[0;32mand\u001b[0m \u001b[0misinstance\u001b[0m\u001b[0;34m(\u001b[0m\u001b[0mdata\u001b[0m\u001b[0;34m,\u001b[0m \u001b[0mABCSeries\u001b[0m\u001b[0;34m)\u001b[0m\u001b[0;34m:\u001b[0m\u001b[0;34m\u001b[0m\u001b[0;34m\u001b[0m\u001b[0m\n",
      "\u001b[0;32m/usr/local/lib/python3.8/dist-packages/pandas/plotting/_core.py\u001b[0m in \u001b[0;36m_get_plot_backend\u001b[0;34m(backend)\u001b[0m\n\u001b[1;32m   1812\u001b[0m     \u001b[0mbackend\u001b[0m \u001b[0;34m:\u001b[0m \u001b[0mstr\u001b[0m\u001b[0;34m\u001b[0m\u001b[0;34m\u001b[0m\u001b[0m\n\u001b[1;32m   1813\u001b[0m         \u001b[0mThe\u001b[0m \u001b[0midentifier\u001b[0m \u001b[0;32mfor\u001b[0m \u001b[0mthe\u001b[0m \u001b[0mbackend\u001b[0m\u001b[0;34m.\u001b[0m \u001b[0mEither\u001b[0m \u001b[0man\u001b[0m \u001b[0mentrypoint\u001b[0m \u001b[0mitem\u001b[0m \u001b[0mregistered\u001b[0m\u001b[0;34m\u001b[0m\u001b[0;34m\u001b[0m\u001b[0m\n\u001b[0;32m-> 1814\u001b[0;31m         \u001b[0;32mwith\u001b[0m \u001b[0mimportlib\u001b[0m\u001b[0;34m.\u001b[0m\u001b[0mmetadata\u001b[0m\u001b[0;34m,\u001b[0m \u001b[0;34m\"matplotlib\"\u001b[0m\u001b[0;34m,\u001b[0m \u001b[0;32mor\u001b[0m \u001b[0ma\u001b[0m \u001b[0mmodule\u001b[0m \u001b[0mname\u001b[0m\u001b[0;34m.\u001b[0m\u001b[0;34m\u001b[0m\u001b[0;34m\u001b[0m\u001b[0m\n\u001b[0m\u001b[1;32m   1815\u001b[0m \u001b[0;34m\u001b[0m\u001b[0m\n\u001b[1;32m   1816\u001b[0m     \u001b[0mReturns\u001b[0m\u001b[0;34m\u001b[0m\u001b[0;34m\u001b[0m\u001b[0m\n",
      "\u001b[0;32m/usr/local/lib/python3.8/dist-packages/pandas/plotting/_core.py\u001b[0m in \u001b[0;36m_load_backend\u001b[0;34m(backend)\u001b[0m\n\u001b[1;32m   1752\u001b[0m         \u001b[0mmatplotlib\u001b[0m\u001b[0;34m.\u001b[0m\u001b[0mAxesSubplot\u001b[0m\u001b[0;34m\u001b[0m\u001b[0;34m\u001b[0m\u001b[0m\n\u001b[1;32m   1753\u001b[0m             \u001b[0mThe\u001b[0m \u001b[0mmatplotlib\u001b[0m\u001b[0;31m \u001b[0m\u001b[0;31m`\u001b[0m\u001b[0;31m`\u001b[0m\u001b[0mAxes\u001b[0m\u001b[0;31m`\u001b[0m\u001b[0;31m`\u001b[0m \u001b[0mon\u001b[0m \u001b[0mwhich\u001b[0m \u001b[0mthe\u001b[0m \u001b[0mhexbin\u001b[0m \u001b[0;32mis\u001b[0m \u001b[0mplotted\u001b[0m\u001b[0;34m.\u001b[0m\u001b[0;34m\u001b[0m\u001b[0;34m\u001b[0m\u001b[0m\n\u001b[0;32m-> 1754\u001b[0;31m \u001b[0;34m\u001b[0m\u001b[0m\n\u001b[0m\u001b[1;32m   1755\u001b[0m         \u001b[0mSee\u001b[0m \u001b[0mAlso\u001b[0m\u001b[0;34m\u001b[0m\u001b[0;34m\u001b[0m\u001b[0m\n\u001b[1;32m   1756\u001b[0m         \u001b[0;34m-\u001b[0m\u001b[0;34m-\u001b[0m\u001b[0;34m-\u001b[0m\u001b[0;34m-\u001b[0m\u001b[0;34m-\u001b[0m\u001b[0;34m-\u001b[0m\u001b[0;34m-\u001b[0m\u001b[0;34m-\u001b[0m\u001b[0;34m\u001b[0m\u001b[0;34m\u001b[0m\u001b[0m\n",
      "\u001b[0;31mImportError\u001b[0m: matplotlib is required for plotting when the default backend \"matplotlib\" is selected.",
      "",
      "\u001b[0;31m---------------------------------------------------------------------------\u001b[0;32m\nNOTE: If your import is failing due to a missing package, you can\nmanually install dependencies using either !pip or !apt.\n\nTo view examples of installing some common dependencies, click the\n\"Open Examples\" button below.\n\u001b[0;31m---------------------------------------------------------------------------\u001b[0m\n"
     ]
    }
   ],
   "source": [
    "# Filter the top 10 brands among the Positive Sentiments\n",
    "reviews_data[reviews_data['user_sentiment']==1].groupby('brand')['brand'].count().sort_values(ascending=False)[:10].plot(kind='bar',color='Green')"
   ]
  },
  {
   "cell_type": "markdown",
   "metadata": {
    "id": "qi7fmfdDpf-l"
   },
   "source": [
    "## Top 10 brands among the Negative Sentiments"
   ]
  },
  {
   "cell_type": "code",
   "execution_count": null,
   "metadata": {
    "executionInfo": {
     "elapsed": 126,
     "status": "aborted",
     "timestamp": 1673505032830,
     "user": {
      "displayName": "mihir mihirpawar",
      "userId": "09074568654888452491"
     },
     "user_tz": -330
    },
    "id": "DKzsKsiArDwi"
   },
   "outputs": [],
   "source": [
    "# Filter the top 10 brands among the Negative Sentiments\n",
    "reviews_data[reviews_data['user_sentiment']==0].groupby('brand')['brand'].count().sort_values(ascending=False)[:10].plot(kind='bar',color='Red')"
   ]
  },
  {
   "cell_type": "markdown",
   "metadata": {
    "id": "Th6pB4aarkjN"
   },
   "source": [
    "### **Users**"
   ]
  },
  {
   "cell_type": "code",
   "execution_count": null,
   "metadata": {
    "executionInfo": {
     "elapsed": 127,
     "status": "aborted",
     "timestamp": 1673505032832,
     "user": {
      "displayName": "mihir mihirpawar",
      "userId": "09074568654888452491"
     },
     "user_tz": -330
    },
    "id": "BgnNqS_lrols"
   },
   "outputs": [],
   "source": [
    "reviews_data[\"reviews_username\"].value_counts()[:10]"
   ]
  },
  {
   "cell_type": "markdown",
   "metadata": {
    "id": "WowLCeKHpoqk"
   },
   "source": [
    "## Positive User Sentiment"
   ]
  },
  {
   "cell_type": "code",
   "execution_count": null,
   "metadata": {
    "executionInfo": {
     "elapsed": 129,
     "status": "aborted",
     "timestamp": 1673505032834,
     "user": {
      "displayName": "mihir mihirpawar",
      "userId": "09074568654888452491"
     },
     "user_tz": -330
    },
    "id": "i7vZQCsJrukC"
   },
   "outputs": [],
   "source": [
    "#plot the customers by 'Positive User Sentiment'\n",
    "reviews_data[reviews_data['user_sentiment']==1].groupby('reviews_username')['reviews_username'].count().sort_values(ascending=False)[:10].plot(kind='bar',color='Green')"
   ]
  },
  {
   "cell_type": "markdown",
   "metadata": {
    "id": "LO7bFGBBps1M"
   },
   "source": [
    "## Negative User Sentiment"
   ]
  },
  {
   "cell_type": "code",
   "execution_count": null,
   "metadata": {
    "executionInfo": {
     "elapsed": 131,
     "status": "aborted",
     "timestamp": 1673505032836,
     "user": {
      "displayName": "mihir mihirpawar",
      "userId": "09074568654888452491"
     },
     "user_tz": -330
    },
    "id": "ACRPRqc6r7-T"
   },
   "outputs": [],
   "source": [
    "#plot the customers by 'Negative User Sentiment'\n",
    "reviews_data[reviews_data['user_sentiment']==0].groupby('reviews_username')['reviews_username'].count().sort_values(ascending=False)[:10].plot(kind='bar',color='Red')"
   ]
  },
  {
   "cell_type": "code",
   "execution_count": null,
   "metadata": {
    "executionInfo": {
     "elapsed": 133,
     "status": "aborted",
     "timestamp": 1673505032838,
     "user": {
      "displayName": "mihir mihirpawar",
      "userId": "09074568654888452491"
     },
     "user_tz": -330
    },
    "id": "rxB3oSGN21M4"
   },
   "outputs": [],
   "source": [
    "#removing nan/null from username\n",
    "reviews_data = reviews_data[~reviews_data.reviews_username.isnull()]"
   ]
  },
  {
   "cell_type": "code",
   "execution_count": null,
   "metadata": {
    "executionInfo": {
     "elapsed": 135,
     "status": "aborted",
     "timestamp": 1673505032840,
     "user": {
      "displayName": "mihir mihirpawar",
      "userId": "09074568654888452491"
     },
     "user_tz": -330
    },
    "id": "GLyeUrXS3QvY"
   },
   "outputs": [],
   "source": [
    "# Combine the reviews_text and reviews_title for better analysis\n",
    "reviews_data[\"reviews_title\"] = reviews_data[\"reviews_title\"].fillna('')\n",
    "reviews_data[\"reviews_full_text\"] = reviews_data[['reviews_title', 'reviews_text']].agg('. '.join, axis=1).str.lstrip('. ')"
   ]
  },
  {
   "cell_type": "markdown",
   "metadata": {
    "id": "lHdAR0pX4vlG"
   },
   "source": [
    "### Text Preprocessing for Modelling"
   ]
  },
  {
   "cell_type": "code",
   "execution_count": null,
   "metadata": {
    "executionInfo": {
     "elapsed": 134,
     "status": "aborted",
     "timestamp": 1673505032841,
     "user": {
      "displayName": "mihir mihirpawar",
      "userId": "09074568654888452491"
     },
     "user_tz": -330
    },
    "id": "dSVOVI9d4wrF"
   },
   "outputs": [],
   "source": [
    "reviews_data[[\"reviews_full_text\", \"user_sentiment\"]].head(10)"
   ]
  },
  {
   "cell_type": "markdown",
   "metadata": {
    "id": "pa0dPU5v4-Hz"
   },
   "source": [
    "## Function to clean text"
   ]
  },
  {
   "cell_type": "code",
   "execution_count": null,
   "metadata": {
    "executionInfo": {
     "elapsed": 136,
     "status": "aborted",
     "timestamp": 1673505032843,
     "user": {
      "displayName": "mihir mihirpawar",
      "userId": "09074568654888452491"
     },
     "user_tz": -330
    },
    "id": "zMo8pZP844SQ"
   },
   "outputs": [],
   "source": [
    "def clean_text(text):\n",
    "    text = text.lower()\n",
    "    text = text.strip()\n",
    "    text = re.sub(\"\\[\\s*\\w*\\s*\\]\", \"\", text)\n",
    "    dictionary = \"abc\".maketrans('', '', string.punctuation)\n",
    "    text = text.translate(dictionary)\n",
    "    text = re.sub(\"\\S*\\d\\S*\", \"\", text)\n",
    "    \n",
    "    return text"
   ]
  },
  {
   "cell_type": "code",
   "execution_count": null,
   "metadata": {
    "executionInfo": {
     "elapsed": 137,
     "status": "aborted",
     "timestamp": 1673505032845,
     "user": {
      "displayName": "mihir mihirpawar",
      "userId": "09074568654888452491"
     },
     "user_tz": -330
    },
    "id": "7kOu3Yg_5KJf"
   },
   "outputs": [],
   "source": [
    "df_clean = reviews_data[['id','name', 'reviews_full_text', 'user_sentiment']]"
   ]
  },
  {
   "cell_type": "code",
   "execution_count": null,
   "metadata": {
    "executionInfo": {
     "elapsed": 140,
     "status": "aborted",
     "timestamp": 1673505032848,
     "user": {
      "displayName": "mihir mihirpawar",
      "userId": "09074568654888452491"
     },
     "user_tz": -330
    },
    "id": "cMUej8-ZEYDY"
   },
   "outputs": [],
   "source": [
    "import string"
   ]
  },
  {
   "cell_type": "code",
   "execution_count": null,
   "metadata": {
    "executionInfo": {
     "elapsed": 142,
     "status": "aborted",
     "timestamp": 1673505032850,
     "user": {
      "displayName": "mihir mihirpawar",
      "userId": "09074568654888452491"
     },
     "user_tz": -330
    },
    "id": "UP7ZN_2j5kZY"
   },
   "outputs": [],
   "source": [
    "df_clean[\"reviews_text\"] = df_clean.reviews_full_text.apply(lambda x: clean_text(x))"
   ]
  },
  {
   "cell_type": "markdown",
   "metadata": {
    "id": "IY2D8cuo5rX6"
   },
   "source": [
    "## Function to map NTLK position tags"
   ]
  },
  {
   "cell_type": "code",
   "execution_count": null,
   "metadata": {
    "executionInfo": {
     "elapsed": 145,
     "status": "aborted",
     "timestamp": 1673505032853,
     "user": {
      "displayName": "mihir mihirpawar",
      "userId": "09074568654888452491"
     },
     "user_tz": -330
    },
    "id": "eoh7jwzL5n-w"
   },
   "outputs": [],
   "source": [
    "def get_wordnet_pos(tag):\n",
    "    if tag.startswith('J'):\n",
    "        return wordnet.ADJ\n",
    "    elif tag.startswith('V'):\n",
    "        return wordnet.VERB\n",
    "    elif tag.startswith('N'):\n",
    "        return wordnet.NOUN\n",
    "    elif tag.startswith('R'):\n",
    "        return wordnet.ADV\n",
    "    else:\n",
    "        return wordnet.NOUN"
   ]
  },
  {
   "cell_type": "markdown",
   "metadata": {
    "id": "egzNB2Jh7agV"
   },
   "source": [
    "## Removing Stop Words"
   ]
  },
  {
   "cell_type": "code",
   "execution_count": null,
   "metadata": {
    "executionInfo": {
     "elapsed": 145,
     "status": "aborted",
     "timestamp": 1673505032854,
     "user": {
      "displayName": "mihir mihirpawar",
      "userId": "09074568654888452491"
     },
     "user_tz": -330
    },
    "id": "VGHhY8-x5yD3"
   },
   "outputs": [],
   "source": [
    "stop_words = set(stopwords.words('english'))\n",
    "\n",
    "def remove_stopword(text):\n",
    "    words = [word for word in text.split() if word.isalpha() and word not in stop_words]\n",
    "    return \" \".join(words)"
   ]
  },
  {
   "cell_type": "markdown",
   "metadata": {
    "id": "LuKJRnZb7kDV"
   },
   "source": [
    "## Lemmatize the sentence"
   ]
  },
  {
   "cell_type": "code",
   "execution_count": null,
   "metadata": {
    "executionInfo": {
     "elapsed": 146,
     "status": "aborted",
     "timestamp": 1673505032855,
     "user": {
      "displayName": "mihir mihirpawar",
      "userId": "09074568654888452491"
     },
     "user_tz": -330
    },
    "id": "ZjSoWRVz7d8r"
   },
   "outputs": [],
   "source": [
    "lemmatizer = WordNetLemmatizer()\n",
    "\n",
    "def lemma_text(text):\n",
    "    word_pos_tags = nltk.pos_tag(word_tokenize(remove_stopword(text))) # Get position tags\n",
    "    # Map the position tag and lemmatize the word/token\n",
    "    words =[lemmatizer.lemmatize(tag[0], get_wordnet_pos(tag[1])) for idx, tag in enumerate(word_pos_tags)] \n",
    "    return \" \".join(words)"
   ]
  },
  {
   "cell_type": "code",
   "execution_count": null,
   "metadata": {
    "executionInfo": {
     "elapsed": 147,
     "status": "aborted",
     "timestamp": 1673505032856,
     "user": {
      "displayName": "mihir mihirpawar",
      "userId": "09074568654888452491"
     },
     "user_tz": -330
    },
    "id": "knwRUwgR7nt4"
   },
   "outputs": [],
   "source": [
    "df_clean[\"reviews_text_cleaned\"] = df_clean.reviews_text.apply(lambda x: lemma_text(x))"
   ]
  },
  {
   "cell_type": "markdown",
   "metadata": {
    "id": "EATRPhzl9lNn"
   },
   "source": [
    "## Word Cloud for Analyzing words by frequency"
   ]
  },
  {
   "cell_type": "code",
   "execution_count": null,
   "metadata": {
    "executionInfo": {
     "elapsed": 148,
     "status": "aborted",
     "timestamp": 1673505032857,
     "user": {
      "displayName": "mihir mihirpawar",
      "userId": "09074568654888452491"
     },
     "user_tz": -330
    },
    "id": "oJ4cH77S7rFy"
   },
   "outputs": [],
   "source": [
    "# Word clouds for postive and negative reviews \n",
    "\n",
    "sns.set(font_scale=2)\n",
    "plt.figure(figsize = (15,10))\n",
    "\n",
    "plt.subplot(1, 2, 1)\n",
    "plt.title('Positive')\n",
    "positive_reviews=df_clean.loc[df_clean.user_sentiment==1,['reviews_text_cleaned']]\n",
    "word_cloud_text = ''.join(positive_reviews['reviews_text_cleaned'])\n",
    "wordcloud = WordCloud(max_font_size=100, # Maximum font size for the largest word\n",
    "                      max_words=100, # The maximum number of words\n",
    "                      background_color=\"white\", # Background color for the word cloud image\n",
    "                      scale = 10, # Scaling between computation and drawing\n",
    "                      width=800, # Width of the canvas\n",
    "                      height=400, # Height of the canvas\n",
    "                      colormap=\"Greens\").generate(word_cloud_text)\n",
    "\n",
    "plt.imshow(wordcloud, \n",
    "           interpolation=\"bilinear\") # to make the displayed image appear more smoothly\n",
    "plt.axis(\"off\")\n",
    "plt.tight_layout()\n",
    "\n",
    "\n",
    "plt.subplot(1, 2, 2)\n",
    "plt.title('Negative')\n",
    "negative_reviews=df_clean.loc[df_clean.user_sentiment==0,['reviews_text_cleaned']]\n",
    "\n",
    "word_cloud_text = ''.join(negative_reviews['reviews_text_cleaned'])\n",
    "\n",
    "wordcloud = WordCloud(max_font_size=100, # Maximum font size for the largest word\n",
    "                      max_words=100, # The maximum number of words\n",
    "                      background_color=\"white\", # Background color for the word cloud image\n",
    "                      scale = 10, # Scaling between computation and drawing\n",
    "                      width=800, # Width of the canvas\n",
    "                      height=400, # Height of the canvas\n",
    "                      colormap=\"Reds\").generate(word_cloud_text)\n",
    "\n",
    "plt.imshow(wordcloud, \n",
    "           interpolation=\"bilinear\") # to make the displayed image appear more smoothly\n",
    "plt.axis(\"off\")\n",
    "plt.tight_layout()"
   ]
  },
  {
   "cell_type": "markdown",
   "metadata": {
    "id": "ej-v8WPz_y1W"
   },
   "source": [
    "## Get Most Common Words and their counts"
   ]
  },
  {
   "cell_type": "code",
   "execution_count": null,
   "metadata": {
    "executionInfo": {
     "elapsed": 150,
     "status": "aborted",
     "timestamp": 1673505032859,
     "user": {
      "displayName": "mihir mihirpawar",
      "userId": "09074568654888452491"
     },
     "user_tz": -330
    },
    "id": "J1iKOcWd9mmd"
   },
   "outputs": [],
   "source": [
    "def Most_Common_Words(reviews, n_most_common):\n",
    "    # flatten review column into a list of words, and set each to lowercase\n",
    "    flattened_reviews = [word for review in reviews for word in \\\n",
    "                         review.lower().split()]\n",
    "\n",
    "\n",
    "    # remove punctuation from reviews\n",
    "    flattened_reviews = [''.join(char for char in review if \\\n",
    "                                 char not in string.punctuation) for \\\n",
    "                         review in flattened_reviews]\n",
    "\n",
    "\n",
    "    # remove any empty strings that were created by this process\n",
    "    flattened_reviews = [review for review in flattened_reviews if review]\n",
    "\n",
    "    return Counter(flattened_reviews).most_common(n_most_common)"
   ]
  },
  {
   "cell_type": "code",
   "execution_count": null,
   "metadata": {
    "executionInfo": {
     "elapsed": 150,
     "status": "aborted",
     "timestamp": 1673505032860,
     "user": {
      "displayName": "mihir mihirpawar",
      "userId": "09074568654888452491"
     },
     "user_tz": -330
    },
    "id": "I7TiNG-k_2YK"
   },
   "outputs": [],
   "source": [
    "pos_reviews = df_clean[df_clean['user_sentiment']==1]\n",
    "Most_Common_Words(pos_reviews['reviews_text_cleaned'],10)"
   ]
  },
  {
   "cell_type": "code",
   "execution_count": null,
   "metadata": {
    "executionInfo": {
     "elapsed": 152,
     "status": "aborted",
     "timestamp": 1673505032862,
     "user": {
      "displayName": "mihir mihirpawar",
      "userId": "09074568654888452491"
     },
     "user_tz": -330
    },
    "id": "Af4yMNlSABaF"
   },
   "outputs": [],
   "source": [
    "neg_reviews = df_clean[df_clean['user_sentiment']==0]\n",
    "Most_Common_Words(neg_reviews['reviews_text_cleaned'],10)"
   ]
  },
  {
   "cell_type": "markdown",
   "metadata": {
    "id": "7_3gQdXJAV39"
   },
   "source": [
    "# Splittng into X and Y"
   ]
  },
  {
   "cell_type": "code",
   "execution_count": null,
   "metadata": {
    "executionInfo": {
     "elapsed": 153,
     "status": "aborted",
     "timestamp": 1673505032863,
     "user": {
      "displayName": "mihir mihirpawar",
      "userId": "09074568654888452491"
     },
     "user_tz": -330
    },
    "id": "t2BcGOCaAGZd"
   },
   "outputs": [],
   "source": [
    "X = df_clean['reviews_text_cleaned']\n",
    "y = df_clean['user_sentiment']"
   ]
  },
  {
   "cell_type": "markdown",
   "metadata": {
    "id": "r06JAyUGAfCd"
   },
   "source": [
    "## Feature Extraction"
   ]
  },
  {
   "cell_type": "markdown",
   "metadata": {
    "id": "aWlFYxg4Bct7"
   },
   "source": [
    "### To Vectorize the data, using TF-IDF vectorizer method to dervie the features from the textual data"
   ]
  },
  {
   "cell_type": "code",
   "execution_count": null,
   "metadata": {
    "executionInfo": {
     "elapsed": 153,
     "status": "aborted",
     "timestamp": 1673505032864,
     "user": {
      "displayName": "mihir mihirpawar",
      "userId": "09074568654888452491"
     },
     "user_tz": -330
    },
    "id": "TC0BVUSoBkd1"
   },
   "outputs": [],
   "source": [
    "#using TF-IDF vectorizer using the parameters to get 800 features.\n",
    "tfidf_vectorizer = TfidfVectorizer(stop_words='english', max_features=800, max_df=0.9, min_df=7, binary=True, \n",
    "                                   ngram_range=(1,2))\n",
    "X_train_tfidf = tfidf_vectorizer.fit_transform(df_clean['reviews_text_cleaned'])\n",
    "\n",
    "y= df_clean['user_sentiment']"
   ]
  },
  {
   "cell_type": "code",
   "execution_count": null,
   "metadata": {
    "executionInfo": {
     "elapsed": 153,
     "status": "aborted",
     "timestamp": 1673505032864,
     "user": {
      "displayName": "mihir mihirpawar",
      "userId": "09074568654888452491"
     },
     "user_tz": -330
    },
    "id": "k_QPOBlWB_rD"
   },
   "outputs": [],
   "source": [
    "print(tfidf_vectorizer.get_feature_names_out())"
   ]
  },
  {
   "cell_type": "code",
   "execution_count": null,
   "metadata": {
    "executionInfo": {
     "elapsed": 154,
     "status": "aborted",
     "timestamp": 1673505032866,
     "user": {
      "displayName": "mihir mihirpawar",
      "userId": "09074568654888452491"
     },
     "user_tz": -330
    },
    "id": "6KArXvqAAhyF"
   },
   "outputs": [],
   "source": [
    "#Distribution of the target variable data in terms of proportions.\n",
    "for i in range(0,len(pd.Series(y).value_counts())):\n",
    "    print(\"Percent of {0}s: \".format(i), round(100*pd.Series(y).value_counts()[i]/pd.Series(y).value_counts().sum(),2), \"%\")"
   ]
  },
  {
   "cell_type": "markdown",
   "metadata": {
    "id": "jxuYvrTWA9IU"
   },
   "source": [
    "As we can see from the distribution, there is a clear imbalanced between the two classes. So, in order to solve this problem, we use SMOTE technique for Oversampling."
   ]
  },
  {
   "cell_type": "markdown",
   "metadata": {
    "id": "n_HRrWrcp4wP"
   },
   "source": [
    "## SMOTE for oversampling imbalanced target variable"
   ]
  },
  {
   "cell_type": "code",
   "execution_count": null,
   "metadata": {
    "executionInfo": {
     "elapsed": 154,
     "status": "aborted",
     "timestamp": 1673505032867,
     "user": {
      "displayName": "mihir mihirpawar",
      "userId": "09074568654888452491"
     },
     "user_tz": -330
    },
    "id": "Xp6fslsTBOGb"
   },
   "outputs": [],
   "source": [
    "# splitting into test and train\n",
    "\n",
    "X_train, X_test, y_train, y_test = train_test_split(X_train_tfidf, y, random_state=42, test_size=0.25)"
   ]
  },
  {
   "cell_type": "code",
   "execution_count": null,
   "metadata": {
    "executionInfo": {
     "elapsed": 155,
     "status": "aborted",
     "timestamp": 1673505032868,
     "user": {
      "displayName": "mihir mihirpawar",
      "userId": "09074568654888452491"
     },
     "user_tz": -330
    },
    "id": "jhJ2fz5NCOyk"
   },
   "outputs": [],
   "source": [
    "counter = Counter(y_train)\n",
    "print('Before',counter)\n",
    "\n",
    "sm = SMOTE()\n",
    "\n",
    "# transform the dataset\n",
    "X_train, y_train = sm.fit_resample(X_train, y_train)\n",
    "\n",
    "counter = Counter(y_train)\n",
    "print('After',counter)"
   ]
  },
  {
   "cell_type": "markdown",
   "metadata": {
    "id": "VPURmpKiFV-f"
   },
   "source": [
    "### Function to display Evaluation metrics and their scores"
   ]
  },
  {
   "cell_type": "code",
   "execution_count": null,
   "metadata": {
    "executionInfo": {
     "elapsed": 154,
     "status": "aborted",
     "timestamp": 1673505032869,
     "user": {
      "displayName": "mihir mihirpawar",
      "userId": "09074568654888452491"
     },
     "user_tz": -330
    },
    "id": "FTh_-YRUCU-Z"
   },
   "outputs": [],
   "source": [
    "def evaluation_scores(classifier, X_test, y_test):\n",
    "\n",
    "  # Calculating Predicted value\n",
    "  y_pred = classifier.predict(X_test)\n",
    "\n",
    "  # Create confusion matrix\n",
    "  conf_m = confusion_matrix(y_test, y_pred)\n",
    "\n",
    "  print(\"Visualizing the Confusion Matrix with a Heatmap\")\n",
    "  print(\"\\n\")\n",
    "  print(\"*\"*50)\n",
    "  # Visualize Confusion Matrix with heatmap\n",
    "  fig, ax = plt.subplots(figsize=(6, 6))\n",
    "  ax = sns.heatmap(confusion_matrix(y_test, y_pred),\n",
    "                  annot=True,\n",
    "                  cbar=False,\n",
    "                  cmap=\"RdYlGn\", fmt = '0.1f')\n",
    "  plt.xlabel(\"Actual label\")\n",
    "  plt.ylabel(\"Predicted label\")\n",
    "  plt.show()\n",
    "  print(\"*\"*50)\n",
    "  print(\"\\n\")\n",
    "\n",
    "  # Calculating the values of True Positives, True Negatives, False Positivies and False Negatives\n",
    "  TP = conf_m[1][1]\n",
    "  TN = conf_m[0][0]\n",
    "  FP = conf_m[0][1]\n",
    "  FN = conf_m[1][0]\n",
    "\n",
    "  print(\"Values of True Positives, True Negatives, False Positivies and False Negatives\")\n",
    "  print(\"~\"*50)\n",
    "  print('True Positives:', TP)\n",
    "  print('True Negatives:', TN)\n",
    "  print('False Positives:', FP)\n",
    "  print('False Negatives:', FN)\n",
    "  print(\"~\"*50)\n",
    "  print(\"\\n\")\n",
    "\n",
    "  # Calculating Accuracy\n",
    "  accuracy = accuracy_score(y_test, y_pred)\n",
    "  accuracy = round(accuracy,2) * 100\n",
    "  \n",
    "  # Calculating Sensitivity/Recall\n",
    "  sensitivity_or_recall = (TP / float(TP + FN)) \n",
    "  sensitivity_or_recall = round(sensitivity_or_recall,2) * 100\n",
    "  \n",
    "  # Calculating Specificity\n",
    "  specificity = (TN / float(TN + FP))\n",
    "  specificity = round(specificity,2)  * 100\n",
    "  \n",
    "  # Calculating Precision\n",
    "  precision = (TN / float(TN + FP))\n",
    "  precision = round(precision,2) * 100\n",
    "  \n",
    "  # Calculating F_1 score\n",
    "  F1_score = 2 * ((precision * sensitivity_or_recall) / (precision + sensitivity_or_recall))\n",
    "  F1_score = round(F1_score,2)  \n",
    "  \n",
    "  print(\"Evaluation Score Summary\")\n",
    "  print('-'*50)\n",
    "  print(f'Accuracy Score: {round(accuracy,2) }')\n",
    "  print(f'Sensitivity/Recall Score: {round(sensitivity_or_recall,2) }') \n",
    "  print(f'Specificity Score: {round(specificity,2)}') \n",
    "  print(f'Precision: {round(precision,2) }')\n",
    "  print(f'F1 Score: {round(F1_score,2) }')\n",
    "  print('-'*50)\n",
    "\n",
    "  # Returning evaluation results for comparison later\n",
    "  evaluation_metrics = []\n",
    "  evaluation_metrics.append(accuracy)\n",
    "  evaluation_metrics.append(sensitivity_or_recall)\n",
    "  evaluation_metrics.append(specificity)\n",
    "  evaluation_metrics.append(precision)\n",
    "  evaluation_metrics.append(F1_score)\n",
    "  \n",
    "  return evaluation_metrics"
   ]
  },
  {
   "cell_type": "markdown",
   "metadata": {
    "id": "-GBV6-zfFf2E"
   },
   "source": [
    "# 1. Logistic Regression"
   ]
  },
  {
   "cell_type": "code",
   "execution_count": null,
   "metadata": {
    "executionInfo": {
     "elapsed": 156,
     "status": "aborted",
     "timestamp": 1673505032871,
     "user": {
      "displayName": "mihir mihirpawar",
      "userId": "09074568654888452491"
     },
     "user_tz": -330
    },
    "id": "BMpXJvsmFYJX"
   },
   "outputs": [],
   "source": [
    "logreg = LogisticRegression(random_state=42, solver='liblinear').fit(X_train, y_train)"
   ]
  },
  {
   "cell_type": "code",
   "execution_count": null,
   "metadata": {
    "executionInfo": {
     "elapsed": 156,
     "status": "aborted",
     "timestamp": 1673505032872,
     "user": {
      "displayName": "mihir mihirpawar",
      "userId": "09074568654888452491"
     },
     "user_tz": -330
    },
    "id": "IYglqck6Fia-"
   },
   "outputs": [],
   "source": [
    "lr_metrics = evaluation_scores(logreg, X_test, y_test)"
   ]
  },
  {
   "cell_type": "code",
   "execution_count": null,
   "metadata": {
    "executionInfo": {
     "elapsed": 157,
     "status": "aborted",
     "timestamp": 1673505032873,
     "user": {
      "displayName": "mihir mihirpawar",
      "userId": "09074568654888452491"
     },
     "user_tz": -330
    },
    "id": "eo5fbKVuFwHm"
   },
   "outputs": [],
   "source": [
    "# Printing the scores of the base model as reference\n",
    "df_lr_base_metrics = pd.DataFrame({'Metrics': ['Accuracy','Sensitivity/Recall','Specificity','Precision','F1 Score'], 'Logistic Regression Base Model': lr_metrics},\n",
    "                             columns = ['Metrics', 'Logistic Regression Base Model']\n",
    "                             )\n",
    "df_lr_base_metrics"
   ]
  },
  {
   "cell_type": "markdown",
   "metadata": {
    "id": "XnRQLDiFHvCk"
   },
   "source": [
    "### 2. TUNED Logistic Regression"
   ]
  },
  {
   "cell_type": "code",
   "execution_count": null,
   "metadata": {
    "executionInfo": {
     "elapsed": 157,
     "status": "aborted",
     "timestamp": 1673505032874,
     "user": {
      "displayName": "mihir mihirpawar",
      "userId": "09074568654888452491"
     },
     "user_tz": -330
    },
    "id": "rbi-ORBMHFjl"
   },
   "outputs": [],
   "source": [
    "logreg_grid = {\"C\": [100, 10, 5, 4, 3, 2, 1, 1.0, 0.1, 0.01],\n",
    "                \"solver\": [\"liblinear\"]}"
   ]
  },
  {
   "cell_type": "code",
   "execution_count": null,
   "metadata": {
    "executionInfo": {
     "elapsed": 158,
     "status": "aborted",
     "timestamp": 1673505032875,
     "user": {
      "displayName": "mihir mihirpawar",
      "userId": "09074568654888452491"
     },
     "user_tz": -330
    },
    "id": "waYk-FCnH4cp"
   },
   "outputs": [],
   "source": [
    "# Setup grid hyperparameter search for LogisticRegression\n",
    "logreg_hpt = GridSearchCV(LogisticRegression(random_state=42),\n",
    "                                param_grid=logreg_grid,\n",
    "                                cv=5,\n",
    "                                verbose=True,\n",
    "                                n_jobs=-1,\n",
    "                                scoring='f1')\n",
    "\n",
    "# Fit random hyperparameter search model\n",
    "logreg_hpt.fit(X_train, y_train);"
   ]
  },
  {
   "cell_type": "code",
   "execution_count": null,
   "metadata": {
    "executionInfo": {
     "elapsed": 158,
     "status": "aborted",
     "timestamp": 1673505032876,
     "user": {
      "displayName": "mihir mihirpawar",
      "userId": "09074568654888452491"
     },
     "user_tz": -330
    },
    "id": "rs2pXLquH8zB"
   },
   "outputs": [],
   "source": [
    "logreg_hpt.best_params_"
   ]
  },
  {
   "cell_type": "code",
   "execution_count": null,
   "metadata": {
    "executionInfo": {
     "elapsed": 159,
     "status": "aborted",
     "timestamp": 1673505032877,
     "user": {
      "displayName": "mihir mihirpawar",
      "userId": "09074568654888452491"
     },
     "user_tz": -330
    },
    "id": "DdPQcHfrIcju"
   },
   "outputs": [],
   "source": [
    "lr_tuned_metrics = evaluation_scores(logreg_hpt, X_test, y_test)"
   ]
  },
  {
   "cell_type": "code",
   "execution_count": null,
   "metadata": {
    "executionInfo": {
     "elapsed": 160,
     "status": "aborted",
     "timestamp": 1673505032879,
     "user": {
      "displayName": "mihir mihirpawar",
      "userId": "09074568654888452491"
     },
     "user_tz": -330
    },
    "id": "sE_p0RI9Igle"
   },
   "outputs": [],
   "source": [
    "dict_lr_bt_metrics = {'Metrics': ['Accuracy','Sensitivity/Recall','Specificity','Precision','F1 Score'], \n",
    "                               'LR Base Model': lr_metrics,\n",
    "                               'LR Tuned Model': lr_tuned_metrics}\n",
    "\n",
    "df_lr_bt_metrics = pd.DataFrame(dict_lr_bt_metrics, columns = ['Metrics', 'LR Base Model', 'LR Tuned Model'])\n",
    "df_lr_bt_metrics"
   ]
  },
  {
   "cell_type": "markdown",
   "metadata": {
    "id": "zELBJEu8Psqy"
   },
   "source": [
    "### Observation\n",
    "\n",
    "\n",
    "\n",
    "\n",
    "1.   For Logistic Regression, Base Model is performing better than the tuned model.\n",
    "2.   We will consider the Base Model for evaluation purpose when we are doing model comparison.\n",
    "\n"
   ]
  },
  {
   "cell_type": "markdown",
   "metadata": {
    "id": "grBrrBTzQKI0"
   },
   "source": [
    "# 3. Random Forest Classifier"
   ]
  },
  {
   "cell_type": "code",
   "execution_count": null,
   "metadata": {
    "executionInfo": {
     "elapsed": 163,
     "status": "aborted",
     "timestamp": 1673505032882,
     "user": {
      "displayName": "mihir mihirpawar",
      "userId": "09074568654888452491"
     },
     "user_tz": -330
    },
    "id": "z6QA_JYWImlK"
   },
   "outputs": [],
   "source": [
    "rf = RandomForestClassifier(random_state=42).fit(X_train, y_train)"
   ]
  },
  {
   "cell_type": "code",
   "execution_count": null,
   "metadata": {
    "executionInfo": {
     "elapsed": 166,
     "status": "aborted",
     "timestamp": 1673505032886,
     "user": {
      "displayName": "mihir mihirpawar",
      "userId": "09074568654888452491"
     },
     "user_tz": -330
    },
    "id": "kBB1bKCjQRa1"
   },
   "outputs": [],
   "source": [
    "rf_metrics = evaluation_scores(rf, X_test, y_test)"
   ]
  },
  {
   "cell_type": "code",
   "execution_count": null,
   "metadata": {
    "executionInfo": {
     "elapsed": 168,
     "status": "aborted",
     "timestamp": 1673505032888,
     "user": {
      "displayName": "mihir mihirpawar",
      "userId": "09074568654888452491"
     },
     "user_tz": -330
    },
    "id": "nsNDAhf3QWDb"
   },
   "outputs": [],
   "source": [
    "df_rfb_metrics = pd.DataFrame({'Metrics': ['Accuracy','Sensitivity/Recall','Specificity','Precision','F1 Score'], 'RF Base Model': rf_metrics},\n",
    "                             columns = ['Metrics', 'RF Base Model']\n",
    "                             )\n",
    "df_rfb_metrics"
   ]
  },
  {
   "cell_type": "markdown",
   "metadata": {
    "id": "he9BKK1jQnrk"
   },
   "source": [
    "# 4. TUNED Random Forest Classifier"
   ]
  },
  {
   "cell_type": "code",
   "execution_count": null,
   "metadata": {
    "executionInfo": {
     "elapsed": 167,
     "status": "aborted",
     "timestamp": 1673505032889,
     "user": {
      "displayName": "mihir mihirpawar",
      "userId": "09074568654888452491"
     },
     "user_tz": -330
    },
    "id": "LGVlB0tRQb10"
   },
   "outputs": [],
   "source": [
    "# Fine tuning using Grid Search CV\n",
    "rf_grid = {\"n_estimators\": [510],\n",
    "           \"max_depth\": [20],\n",
    "           \"min_samples_split\": [350, 400],\n",
    "           \"min_samples_leaf\": [45, 50]}"
   ]
  },
  {
   "cell_type": "code",
   "execution_count": null,
   "metadata": {
    "executionInfo": {
     "elapsed": 20122,
     "status": "aborted",
     "timestamp": 1673505032893,
     "user": {
      "displayName": "mihir mihirpawar",
      "userId": "09074568654888452491"
     },
     "user_tz": -330
    },
    "id": "0-d0m5yrRKeD"
   },
   "outputs": [],
   "source": [
    "rf_hpt = GridSearchCV(RandomForestClassifier(random_state=42),\n",
    "                                param_grid=rf_grid,\n",
    "                                cv=5,\n",
    "                                verbose=True,\n",
    "                                n_jobs=-1,\n",
    "                                scoring='f1')\n",
    "\n",
    "# Fit random hyperparameter search model\n",
    "rf_hpt.fit(X_train, y_train);"
   ]
  },
  {
   "cell_type": "code",
   "execution_count": null,
   "metadata": {
    "executionInfo": {
     "elapsed": 20107,
     "status": "aborted",
     "timestamp": 1673505032897,
     "user": {
      "displayName": "mihir mihirpawar",
      "userId": "09074568654888452491"
     },
     "user_tz": -330
    },
    "id": "fxPNRAcIROYQ"
   },
   "outputs": [],
   "source": [
    "# Getting the scores of the tuned model\n",
    "rf_tuned_metrics = evaluation_scores(rf_hpt, X_test, y_test)"
   ]
  },
  {
   "cell_type": "markdown",
   "metadata": {
    "id": "hfjsyS1QUEtq"
   },
   "source": [
    "### Observation\n",
    "For Random Forest, Tuned Model is performing better than the base model as F1 Score is better. We will consider the Tuned Model for evaluation purpose when we are doing model comparison."
   ]
  },
  {
   "cell_type": "markdown",
   "metadata": {
    "id": "vKqIJAIGSj4a"
   },
   "source": [
    "# 5. XGBoost Classifier"
   ]
  },
  {
   "cell_type": "code",
   "execution_count": null,
   "metadata": {
    "executionInfo": {
     "elapsed": 20105,
     "status": "aborted",
     "timestamp": 1673505032898,
     "user": {
      "displayName": "mihir mihirpawar",
      "userId": "09074568654888452491"
     },
     "user_tz": -330
    },
    "id": "-HMIei3hRSLQ"
   },
   "outputs": [],
   "source": [
    "xg = xgb.XGBClassifier(random_state=42).fit(X_train, y_train)"
   ]
  },
  {
   "cell_type": "code",
   "execution_count": null,
   "metadata": {
    "executionInfo": {
     "elapsed": 20093,
     "status": "aborted",
     "timestamp": 1673505032900,
     "user": {
      "displayName": "mihir mihirpawar",
      "userId": "09074568654888452491"
     },
     "user_tz": -330
    },
    "id": "ZoGreNxLSrsc"
   },
   "outputs": [],
   "source": [
    "xg_metrics = evaluation_scores(xg, X_test, y_test)"
   ]
  },
  {
   "cell_type": "code",
   "execution_count": null,
   "metadata": {
    "executionInfo": {
     "elapsed": 20083,
     "status": "aborted",
     "timestamp": 1673505032902,
     "user": {
      "displayName": "mihir mihirpawar",
      "userId": "09074568654888452491"
     },
     "user_tz": -330
    },
    "id": "A0PbuLd4TDWX"
   },
   "outputs": [],
   "source": [
    "df_xgb_metrics = pd.DataFrame({'Metrics': ['Accuracy','Sensitivity/Recall','Specificity','Precision','F1 Score'], 'XG Base Model': xg_metrics},\n",
    "                             columns = ['Metrics', 'XG Base Model']\n",
    "                             )\n",
    "df_xgb_metrics"
   ]
  },
  {
   "cell_type": "markdown",
   "metadata": {
    "id": "-QS0zS3VTs5E"
   },
   "source": [
    "# 6. TUNED XG BOOST"
   ]
  },
  {
   "cell_type": "code",
   "execution_count": null,
   "metadata": {
    "executionInfo": {
     "elapsed": 20081,
     "status": "aborted",
     "timestamp": 1673505032904,
     "user": {
      "displayName": "mihir mihirpawar",
      "userId": "09074568654888452491"
     },
     "user_tz": -330
    },
    "id": "xRsGuLQ6TtrW"
   },
   "outputs": [],
   "source": [
    "xg_grid = {\"learning_rate\": [0.45, 0.15],\n",
    "           \"max_depth\": [5, 10]\n",
    "           }"
   ]
  },
  {
   "cell_type": "code",
   "execution_count": null,
   "metadata": {
    "executionInfo": {
     "elapsed": 20072,
     "status": "aborted",
     "timestamp": 1673505032906,
     "user": {
      "displayName": "mihir mihirpawar",
      "userId": "09074568654888452491"
     },
     "user_tz": -330
    },
    "id": "pWhyPwn-Txb7"
   },
   "outputs": [],
   "source": [
    "xg_hpt = GridSearchCV(XGBClassifier(random_state=42),\n",
    "                                param_grid=xg_grid,\n",
    "                                cv=5,\n",
    "                                verbose=True,\n",
    "                                n_jobs=-1,\n",
    "                                scoring='f1')\n",
    "\n",
    "# Fit random hyperparameter search model\n",
    "xg_hpt.fit(X_train, y_train)"
   ]
  },
  {
   "cell_type": "code",
   "execution_count": null,
   "metadata": {
    "executionInfo": {
     "elapsed": 20063,
     "status": "aborted",
     "timestamp": 1673505032908,
     "user": {
      "displayName": "mihir mihirpawar",
      "userId": "09074568654888452491"
     },
     "user_tz": -330
    },
    "id": "wYfALLDRT2-e"
   },
   "outputs": [],
   "source": [
    "xg_hpt.best_params_"
   ]
  },
  {
   "cell_type": "code",
   "execution_count": null,
   "metadata": {
    "executionInfo": {
     "elapsed": 20048,
     "status": "aborted",
     "timestamp": 1673505032909,
     "user": {
      "displayName": "mihir mihirpawar",
      "userId": "09074568654888452491"
     },
     "user_tz": -330
    },
    "id": "-SlfZlN6T5kV"
   },
   "outputs": [],
   "source": [
    "xg_tuned_metrics = evaluation_scores(xg_hpt, X_test, y_test)"
   ]
  },
  {
   "cell_type": "code",
   "execution_count": null,
   "metadata": {
    "executionInfo": {
     "elapsed": 20036,
     "status": "aborted",
     "timestamp": 1673505032911,
     "user": {
      "displayName": "mihir mihirpawar",
      "userId": "09074568654888452491"
     },
     "user_tz": -330
    },
    "id": "GBsBx8QrT8GM"
   },
   "outputs": [],
   "source": [
    "# Printing the scores of the base and tuned XGBoost model as reference\n",
    "dict_xg_bt_metrics = {'Metrics': ['Accuracy','Sensitivity/Recall','Specificity','Precision','F1 Score'], \n",
    "                               'XG Base Model': xg_metrics,\n",
    "                               'XG Tuned Model': xg_tuned_metrics}\n",
    "\n",
    "df_xg_bt_metrics = pd.DataFrame(dict_xg_bt_metrics, columns = ['Metrics', 'XG Base Model', 'XG Tuned Model'])\n",
    "df_xg_bt_metrics"
   ]
  },
  {
   "cell_type": "markdown",
   "metadata": {
    "id": "sgCIglJcVhk7"
   },
   "source": [
    "## 7. Naive Bayes"
   ]
  },
  {
   "cell_type": "code",
   "execution_count": null,
   "metadata": {
    "executionInfo": {
     "elapsed": 20031,
     "status": "aborted",
     "timestamp": 1673505032912,
     "user": {
      "displayName": "mihir mihirpawar",
      "userId": "09074568654888452491"
     },
     "user_tz": -330
    },
    "id": "Oiu7xpxWVgoU"
   },
   "outputs": [],
   "source": [
    "mnb = MultinomialNB().fit(X_train, y_train)"
   ]
  },
  {
   "cell_type": "code",
   "execution_count": null,
   "metadata": {
    "executionInfo": {
     "elapsed": 20022,
     "status": "aborted",
     "timestamp": 1673505032913,
     "user": {
      "displayName": "mihir mihirpawar",
      "userId": "09074568654888452491"
     },
     "user_tz": -330
    },
    "id": "OOTyorHsVgr6"
   },
   "outputs": [],
   "source": [
    "mnb_metrics = evaluation_scores(mnb, X_test, y_test)"
   ]
  },
  {
   "cell_type": "markdown",
   "metadata": {
    "id": "uhwebV0uVOYK"
   },
   "source": [
    "# Model Evaluation"
   ]
  },
  {
   "cell_type": "code",
   "execution_count": null,
   "metadata": {
    "executionInfo": {
     "elapsed": 20008,
     "status": "aborted",
     "timestamp": 1673505032914,
     "user": {
      "displayName": "mihir mihirpawar",
      "userId": "09074568654888452491"
     },
     "user_tz": -330
    },
    "id": "65jcL7ieT_QA"
   },
   "outputs": [],
   "source": [
    "# Printing the scores of all the 3 Models (Base and Tuned)\n",
    "dict_bt_metrics = {'Metrics': ['Accuracy','Sensitivity/Recall','Specificity','Precision','F1 Score'],\n",
    "                              'LR Base Model': lr_metrics, 'LR Tuned Model': lr_tuned_metrics,\n",
    "                              'RF Base Model': rf_metrics, 'RF Tuned Model': rf_tuned_metrics,\n",
    "                              'XG Base Model': xg_metrics, 'XG Tuned Model': xg_tuned_metrics,\n",
    "                              'Naive Bayes Model': mnb_metrics}\n",
    "\n",
    "df_bt_metrics = pd.DataFrame(dict_bt_metrics, columns = ['Metrics', 'LR Base Model', 'LR Tuned Model', 'RF Base Model', 'RF Tuned Model', 'XG Base Model', 'XG Tuned Model','Naive Bayes Model'])\n",
    "df_bt_metrics"
   ]
  },
  {
   "cell_type": "markdown",
   "metadata": {
    "id": "S007NMxHZLge"
   },
   "source": [
    "After looking at the above evaluation metrics table, we can confidently conclude that Naive Bayes Model performs better as compared to other models. "
   ]
  },
  {
   "cell_type": "markdown",
   "metadata": {
    "id": "48tcF9DgZges"
   },
   "source": [
    "## Saving the models"
   ]
  },
  {
   "cell_type": "code",
   "execution_count": null,
   "metadata": {
    "executionInfo": {
     "elapsed": 20005,
     "status": "aborted",
     "timestamp": 1673505032915,
     "user": {
      "displayName": "mihir mihirpawar",
      "userId": "09074568654888452491"
     },
     "user_tz": -330
    },
    "id": "0KmgearLcm6j"
   },
   "outputs": [],
   "source": [
    "def save_object(obj, filename):\n",
    "    filename = pickle_path+filename+'.pkl'\n",
    "    pickle.dump(obj, open(filename, 'wb'))"
   ]
  },
  {
   "cell_type": "code",
   "execution_count": null,
   "metadata": {
    "executionInfo": {
     "elapsed": 20004,
     "status": "aborted",
     "timestamp": 1673505032917,
     "user": {
      "displayName": "mihir mihirpawar",
      "userId": "09074568654888452491"
     },
     "user_tz": -330
    },
    "id": "eaFIBaJvZmhD"
   },
   "outputs": [],
   "source": [
    "save_object(mnb, 'sentiment-classification-naive-bayes-model')\n",
    "\n",
    "save_object(logreg, 'sentiment-classification-logistic-regression-model')\n",
    "\n",
    "save_object(tfidf_vectorizer,'tfidf-vectorizer')\n",
    "\n",
    "save_object(df_clean, 'cleaned-data')\n"
   ]
  },
  {
   "cell_type": "markdown",
   "metadata": {
    "id": "ncOc09e3KbpN"
   },
   "source": [
    "# Building A Recommendation System"
   ]
  },
  {
   "cell_type": "markdown",
   "metadata": {
    "id": "Fijylw7HLZsD"
   },
   "source": [
    "We are going to try with 2 of the Colloboarative filtering techniques: - \n",
    "\n",
    "1.   User-User Based Approach\n",
    "2.   Item-Item Based Approach\n",
    "\n",
    "\n"
   ]
  },
  {
   "cell_type": "code",
   "execution_count": null,
   "metadata": {
    "executionInfo": {
     "elapsed": 20003,
     "status": "aborted",
     "timestamp": 1673505032918,
     "user": {
      "displayName": "mihir mihirpawar",
      "userId": "09074568654888452491"
     },
     "user_tz": -330
    },
    "id": "b3xQXTACaAqS"
   },
   "outputs": [],
   "source": [
    "# df_reviews = pd.read_csv(pythonpath + \"sample30.csv\")"
   ]
  },
  {
   "cell_type": "code",
   "execution_count": null,
   "metadata": {
    "executionInfo": {
     "elapsed": 19992,
     "status": "aborted",
     "timestamp": 1673505032919,
     "user": {
      "displayName": "mihir mihirpawar",
      "userId": "09074568654888452491"
     },
     "user_tz": -330
    },
    "id": "xRRObuaGPPmO"
   },
   "outputs": [],
   "source": [
    "reviews_data.info()"
   ]
  },
  {
   "cell_type": "code",
   "execution_count": null,
   "metadata": {
    "executionInfo": {
     "elapsed": 19991,
     "status": "aborted",
     "timestamp": 1673505032920,
     "user": {
      "displayName": "mihir mihirpawar",
      "userId": "09074568654888452491"
     },
     "user_tz": -330
    },
    "id": "Md2TAAGdPSPb"
   },
   "outputs": [],
   "source": [
    "df_recommendation = reviews_data[[\"id\", \"name\", \"reviews_rating\", \"reviews_username\"]]"
   ]
  },
  {
   "cell_type": "code",
   "execution_count": null,
   "metadata": {
    "executionInfo": {
     "elapsed": 19980,
     "status": "aborted",
     "timestamp": 1673505032921,
     "user": {
      "displayName": "mihir mihirpawar",
      "userId": "09074568654888452491"
     },
     "user_tz": -330
    },
    "id": "sYcJN5fzPVtG"
   },
   "outputs": [],
   "source": [
    "df_recommendation.isnull().sum()"
   ]
  },
  {
   "cell_type": "code",
   "execution_count": null,
   "metadata": {
    "executionInfo": {
     "elapsed": 19969,
     "status": "aborted",
     "timestamp": 1673505032923,
     "user": {
      "displayName": "mihir mihirpawar",
      "userId": "09074568654888452491"
     },
     "user_tz": -330
    },
    "id": "-mTGyijOPdDO"
   },
   "outputs": [],
   "source": [
    "df_recommendation.head()"
   ]
  },
  {
   "cell_type": "code",
   "execution_count": null,
   "metadata": {
    "executionInfo": {
     "elapsed": 19968,
     "status": "aborted",
     "timestamp": 1673505032925,
     "user": {
      "displayName": "mihir mihirpawar",
      "userId": "09074568654888452491"
     },
     "user_tz": -330
    },
    "id": "vQw9uM6FThUQ"
   },
   "outputs": [],
   "source": [
    "#splitting the train and test\n",
    "train, test = train_test_split(df_recommendation, test_size=0.25, random_state=42)"
   ]
  },
  {
   "cell_type": "code",
   "execution_count": null,
   "metadata": {
    "executionInfo": {
     "elapsed": 19962,
     "status": "aborted",
     "timestamp": 1673505032927,
     "user": {
      "displayName": "mihir mihirpawar",
      "userId": "09074568654888452491"
     },
     "user_tz": -330
    },
    "id": "OMuw-LgYslSD"
   },
   "outputs": [],
   "source": [
    "print(train.shape)\n",
    "print(test.shape)"
   ]
  },
  {
   "cell_type": "code",
   "execution_count": null,
   "metadata": {
    "executionInfo": {
     "elapsed": 19961,
     "status": "aborted",
     "timestamp": 1673505032928,
     "user": {
      "displayName": "mihir mihirpawar",
      "userId": "09074568654888452491"
     },
     "user_tz": -330
    },
    "id": "tSyS24IZsoZe"
   },
   "outputs": [],
   "source": [
    "product_column = \"id\"\n",
    "user_column = \"reviews_username\"\n",
    "value_column = \"reviews_rating\""
   ]
  },
  {
   "cell_type": "markdown",
   "metadata": {
    "id": "IVarOkCAs3zN"
   },
   "source": [
    "### Pivot the train ratings' dataset into matrix format in which columns are product names and the rows are user names."
   ]
  },
  {
   "cell_type": "code",
   "execution_count": null,
   "metadata": {
    "executionInfo": {
     "elapsed": 19950,
     "status": "aborted",
     "timestamp": 1673505032929,
     "user": {
      "displayName": "mihir mihirpawar",
      "userId": "09074568654888452491"
     },
     "user_tz": -330
    },
    "id": "3BQ4KhvbstaB"
   },
   "outputs": [],
   "source": [
    "df_pivot = pd.pivot_table(train,index=user_column, columns = product_column, values = value_column).fillna(0)\n",
    "df_pivot.head(10)"
   ]
  },
  {
   "cell_type": "markdown",
   "metadata": {
    "id": "2MV_X1Ojs9AN"
   },
   "source": [
    "### Creating dummy train and test"
   ]
  },
  {
   "cell_type": "code",
   "execution_count": null,
   "metadata": {
    "executionInfo": {
     "elapsed": 19945,
     "status": "aborted",
     "timestamp": 1673505032930,
     "user": {
      "displayName": "mihir mihirpawar",
      "userId": "09074568654888452491"
     },
     "user_tz": -330
    },
    "id": "S-89MWvis17a"
   },
   "outputs": [],
   "source": [
    "# Copy the train dataset into dummy_train\n",
    "dummy_train = train.copy()"
   ]
  },
  {
   "cell_type": "markdown",
   "metadata": {
    "id": "bxYhgg7JtGXT"
   },
   "source": [
    "### The products not rated by user is marked as 1 for prediction. "
   ]
  },
  {
   "cell_type": "code",
   "execution_count": null,
   "metadata": {
    "executionInfo": {
     "elapsed": 19940,
     "status": "aborted",
     "timestamp": 1673505032931,
     "user": {
      "displayName": "mihir mihirpawar",
      "userId": "09074568654888452491"
     },
     "user_tz": -330
    },
    "id": "PCcaX8eztBl4"
   },
   "outputs": [],
   "source": [
    "dummy_train[value_column] = dummy_train[value_column].apply(lambda x: 0 if x>=1 else 1)"
   ]
  },
  {
   "cell_type": "markdown",
   "metadata": {
    "id": "G8rySchItSeX"
   },
   "source": [
    "### Pivot the 'train ratings' dataset into matrix format in which columns are product names and the rows are user names."
   ]
  },
  {
   "cell_type": "code",
   "execution_count": null,
   "metadata": {
    "executionInfo": {
     "elapsed": 19929,
     "status": "aborted",
     "timestamp": 1673505032933,
     "user": {
      "displayName": "mihir mihirpawar",
      "userId": "09074568654888452491"
     },
     "user_tz": -330
    },
    "id": "C-OyF9d8tOT8"
   },
   "outputs": [],
   "source": [
    "dummy_train = pd.pivot_table(dummy_train,index=user_column, columns = product_column, values = value_column).fillna(1)\n",
    "dummy_train.head(10)"
   ]
  },
  {
   "cell_type": "markdown",
   "metadata": {
    "id": "8A4v-Mattgdw"
   },
   "source": [
    "# User similarity matrix"
   ]
  },
  {
   "cell_type": "code",
   "execution_count": null,
   "metadata": {
    "executionInfo": {
     "elapsed": 19920,
     "status": "aborted",
     "timestamp": 1673505032935,
     "user": {
      "displayName": "mihir mihirpawar",
      "userId": "09074568654888452491"
     },
     "user_tz": -330
    },
    "id": "TjiVKqIhtaap"
   },
   "outputs": [],
   "source": [
    "df_pivot.index.nunique()"
   ]
  },
  {
   "cell_type": "markdown",
   "metadata": {
    "id": "b4Ij0Pfwtxnl"
   },
   "source": [
    "### Using cosine_similarity function to compute the distance."
   ]
  },
  {
   "cell_type": "code",
   "execution_count": null,
   "metadata": {
    "executionInfo": {
     "elapsed": 19909,
     "status": "aborted",
     "timestamp": 1673505032936,
     "user": {
      "displayName": "mihir mihirpawar",
      "userId": "09074568654888452491"
     },
     "user_tz": -330
    },
    "id": "BaVBvBjhtjhx"
   },
   "outputs": [],
   "source": [
    "user_correlation = cosine_similarity(df_pivot)\n",
    "user_correlation[np.isnan(user_correlation)] = 0\n",
    "print('user_correlation==================================================================')\n",
    "print(user_correlation)\n",
    "print('user_correlation shape==================================================================')\n",
    "print(user_correlation.shape)"
   ]
  },
  {
   "cell_type": "markdown",
   "metadata": {
    "id": "3Cl1zvwluJwA"
   },
   "source": [
    "## Prediction User-User Recommender System"
   ]
  },
  {
   "cell_type": "markdown",
   "metadata": {
    "id": "3vXbkn3TvS3A"
   },
   "source": [
    "### Filtering out the user_correlation that are negatively correlated"
   ]
  },
  {
   "cell_type": "code",
   "execution_count": null,
   "metadata": {
    "executionInfo": {
     "elapsed": 19898,
     "status": "aborted",
     "timestamp": 1673505032937,
     "user": {
      "displayName": "mihir mihirpawar",
      "userId": "09074568654888452491"
     },
     "user_tz": -330
    },
    "id": "UWFXY0iGt19I"
   },
   "outputs": [],
   "source": [
    "user_correlation[user_correlation<0]=0\n",
    "user_correlation"
   ]
  },
  {
   "cell_type": "code",
   "execution_count": null,
   "metadata": {
    "executionInfo": {
     "elapsed": 19886,
     "status": "aborted",
     "timestamp": 1673505032939,
     "user": {
      "displayName": "mihir mihirpawar",
      "userId": "09074568654888452491"
     },
     "user_tz": -330
    },
    "id": "5qw48FKyvWG8"
   },
   "outputs": [],
   "source": [
    "user_predicted_ratings = np.dot(user_correlation, df_pivot.fillna(0))\n",
    "user_predicted_ratings"
   ]
  },
  {
   "cell_type": "code",
   "execution_count": null,
   "metadata": {
    "executionInfo": {
     "elapsed": 19874,
     "status": "aborted",
     "timestamp": 1673505032940,
     "user": {
      "displayName": "mihir mihirpawar",
      "userId": "09074568654888452491"
     },
     "user_tz": -330
    },
    "id": "QqdUF1hUvYzm"
   },
   "outputs": [],
   "source": [
    "#we are interested in products that are not rated by the user, so we multiply with dummy train to make it zero\n",
    "user_final_rating = np.multiply(user_predicted_ratings,dummy_train)\n",
    "user_final_rating.head(10)"
   ]
  },
  {
   "cell_type": "markdown",
   "metadata": {
    "id": "oHS0ak6NvmKq"
   },
   "source": [
    "### Find 20 recommendation for the user"
   ]
  },
  {
   "cell_type": "code",
   "execution_count": null,
   "metadata": {
    "executionInfo": {
     "elapsed": 19862,
     "status": "aborted",
     "timestamp": 1673505032941,
     "user": {
      "displayName": "mihir mihirpawar",
      "userId": "09074568654888452491"
     },
     "user_tz": -330
    },
    "id": "EzsiGY_3vhTl"
   },
   "outputs": [],
   "source": [
    "user_input = \"mike\" \n",
    "print('user_input-',user_input)"
   ]
  },
  {
   "cell_type": "code",
   "execution_count": null,
   "metadata": {
    "executionInfo": {
     "elapsed": 19849,
     "status": "aborted",
     "timestamp": 1673505032942,
     "user": {
      "displayName": "mihir mihirpawar",
      "userId": "09074568654888452491"
     },
     "user_tz": -330
    },
    "id": "rPVdk2jqvypm"
   },
   "outputs": [],
   "source": [
    "recommendations = user_final_rating.loc[user_input].sort_values(ascending=False)[0:20]\n",
    "recommendations"
   ]
  },
  {
   "cell_type": "markdown",
   "metadata": {
    "id": "qWsxtdexv_Ae"
   },
   "source": [
    "### Display the Top 20 products with id, name and similarity_score "
   ]
  },
  {
   "cell_type": "code",
   "execution_count": null,
   "metadata": {
    "executionInfo": {
     "elapsed": 19832,
     "status": "aborted",
     "timestamp": 1673505032943,
     "user": {
      "displayName": "mihir mihirpawar",
      "userId": "09074568654888452491"
     },
     "user_tz": -330
    },
    "id": "QrwJAtuJv6M8"
   },
   "outputs": [],
   "source": [
    "final_recommendations = pd.DataFrame({'product_id': recommendations.index, 'similarity_score' : recommendations})\n",
    "final_recommendations.reset_index(drop=True)\n",
    "pd.merge(final_recommendations, train, on=\"id\")[[\"id\", \"name\", \"similarity_score\"]].drop_duplicates()"
   ]
  },
  {
   "cell_type": "markdown",
   "metadata": {
    "id": "S5blKTcKwJUM"
   },
   "source": [
    "## Evaluation User-User"
   ]
  },
  {
   "cell_type": "code",
   "execution_count": null,
   "metadata": {
    "executionInfo": {
     "elapsed": 19823,
     "status": "aborted",
     "timestamp": 1673505032944,
     "user": {
      "displayName": "mihir mihirpawar",
      "userId": "09074568654888452491"
     },
     "user_tz": -330
    },
    "id": "GTry65XfwG0p"
   },
   "outputs": [],
   "source": [
    "# Find out the common users of test and train dataset.\n",
    "common = test[test.reviews_username.isin(train.reviews_username)]\n",
    "common.shape"
   ]
  },
  {
   "cell_type": "code",
   "execution_count": null,
   "metadata": {
    "executionInfo": {
     "elapsed": 54,
     "status": "aborted",
     "timestamp": 1673505034223,
     "user": {
      "displayName": "mihir mihirpawar",
      "userId": "09074568654888452491"
     },
     "user_tz": -330
    },
    "id": "Sm0jSfBIwOuV"
   },
   "outputs": [],
   "source": [
    "common.head(10)"
   ]
  },
  {
   "cell_type": "markdown",
   "metadata": {
    "id": "7SzNvibowUy7"
   },
   "source": [
    "### Convert into the user-movie matrix"
   ]
  },
  {
   "cell_type": "code",
   "execution_count": null,
   "metadata": {
    "executionInfo": {
     "elapsed": 55,
     "status": "aborted",
     "timestamp": 1673505034224,
     "user": {
      "displayName": "mihir mihirpawar",
      "userId": "09074568654888452491"
     },
     "user_tz": -330
    },
    "id": "Ei1aRXr2wRr-"
   },
   "outputs": [],
   "source": [
    "common_user_based_matrix = pd.pivot_table(common,index=user_column, columns = product_column, values = value_column)\n",
    "common_user_based_matrix.head()"
   ]
  },
  {
   "cell_type": "markdown",
   "metadata": {
    "id": "QGOzzwg9waeZ"
   },
   "source": [
    "### Convert the user_correlation matrix into dataframe."
   ]
  },
  {
   "cell_type": "code",
   "execution_count": null,
   "metadata": {
    "executionInfo": {
     "elapsed": 56,
     "status": "aborted",
     "timestamp": 1673505034225,
     "user": {
      "displayName": "mihir mihirpawar",
      "userId": "09074568654888452491"
     },
     "user_tz": -330
    },
    "id": "5bmmtj9OwYPP"
   },
   "outputs": [],
   "source": [
    "user_correlation_df = pd.DataFrame(user_correlation)\n",
    "user_correlation_df.head()"
   ]
  },
  {
   "cell_type": "code",
   "execution_count": null,
   "metadata": {
    "executionInfo": {
     "elapsed": 57,
     "status": "aborted",
     "timestamp": 1673505034226,
     "user": {
      "displayName": "mihir mihirpawar",
      "userId": "09074568654888452491"
     },
     "user_tz": -330
    },
    "id": "UapcqdZxweyI"
   },
   "outputs": [],
   "source": [
    "user_correlation_df[user_column] = df_pivot.index\n",
    "user_correlation_df.set_index(user_column,inplace=True)\n",
    "user_correlation_df.head()"
   ]
  },
  {
   "cell_type": "code",
   "execution_count": null,
   "metadata": {
    "executionInfo": {
     "elapsed": 56,
     "status": "aborted",
     "timestamp": 1673505034226,
     "user": {
      "displayName": "mihir mihirpawar",
      "userId": "09074568654888452491"
     },
     "user_tz": -330
    },
    "id": "xKQxUH6Mwl7J"
   },
   "outputs": [],
   "source": [
    "list_name_user = common.reviews_username.tolist()\n",
    "\n",
    "user_correlation_df.columns = df_pivot.index.tolist()\n",
    "user_correlation_df_1 =  user_correlation_df[user_correlation_df.index.isin(list_name_user)]"
   ]
  },
  {
   "cell_type": "code",
   "execution_count": null,
   "metadata": {
    "executionInfo": {
     "elapsed": 57,
     "status": "aborted",
     "timestamp": 1673505034227,
     "user": {
      "displayName": "mihir mihirpawar",
      "userId": "09074568654888452491"
     },
     "user_tz": -330
    },
    "id": "eH81yfb_wv3S"
   },
   "outputs": [],
   "source": [
    "user_correlation_df_2 = user_correlation_df_1.T[user_correlation_df_1.T.index.isin(list_name_user)]"
   ]
  },
  {
   "cell_type": "code",
   "execution_count": null,
   "metadata": {
    "executionInfo": {
     "elapsed": 57,
     "status": "aborted",
     "timestamp": 1673505034227,
     "user": {
      "displayName": "mihir mihirpawar",
      "userId": "09074568654888452491"
     },
     "user_tz": -330
    },
    "id": "7U_rjgQ1xLr3"
   },
   "outputs": [],
   "source": [
    "user_correlation_df_3 = user_correlation_df_2.T"
   ]
  },
  {
   "cell_type": "code",
   "execution_count": null,
   "metadata": {
    "executionInfo": {
     "elapsed": 58,
     "status": "aborted",
     "timestamp": 1673505034228,
     "user": {
      "displayName": "mihir mihirpawar",
      "userId": "09074568654888452491"
     },
     "user_tz": -330
    },
    "id": "46JYzEQjxR1e"
   },
   "outputs": [],
   "source": [
    "user_correlation_df_3[user_correlation_df_3<0]=0\n",
    "\n",
    "common_user_predicted_ratings = np.dot(user_correlation_df_3, common_user_based_matrix.fillna(0))\n",
    "common_user_predicted_ratings"
   ]
  },
  {
   "cell_type": "code",
   "execution_count": null,
   "metadata": {
    "executionInfo": {
     "elapsed": 59,
     "status": "aborted",
     "timestamp": 1673505034229,
     "user": {
      "displayName": "mihir mihirpawar",
      "userId": "09074568654888452491"
     },
     "user_tz": -330
    },
    "id": "1vEOr7-_xUR8"
   },
   "outputs": [],
   "source": [
    "dummy_test = common.copy()\n",
    "\n",
    "dummy_test[value_column] = dummy_test[value_column].apply(lambda x: 1 if x>=1 else 0)\n",
    "dummy_test = pd.pivot_table(dummy_test,index=user_column, columns = product_column, values = value_column).fillna(0)"
   ]
  },
  {
   "cell_type": "code",
   "execution_count": null,
   "metadata": {
    "executionInfo": {
     "elapsed": 59,
     "status": "aborted",
     "timestamp": 1673505034229,
     "user": {
      "displayName": "mihir mihirpawar",
      "userId": "09074568654888452491"
     },
     "user_tz": -330
    },
    "id": "Twt8cbDPxWzX"
   },
   "outputs": [],
   "source": [
    "common_user_based_matrix.head()"
   ]
  },
  {
   "cell_type": "code",
   "execution_count": null,
   "metadata": {
    "executionInfo": {
     "elapsed": 60,
     "status": "aborted",
     "timestamp": 1673505034230,
     "user": {
      "displayName": "mihir mihirpawar",
      "userId": "09074568654888452491"
     },
     "user_tz": -330
    },
    "id": "q2RimpijxZnt"
   },
   "outputs": [],
   "source": [
    "common_user_predicted_ratings = np.multiply(common_user_predicted_ratings,dummy_test)"
   ]
  },
  {
   "cell_type": "code",
   "execution_count": null,
   "metadata": {
    "executionInfo": {
     "elapsed": 59,
     "status": "aborted",
     "timestamp": 1673505034230,
     "user": {
      "displayName": "mihir mihirpawar",
      "userId": "09074568654888452491"
     },
     "user_tz": -330
    },
    "id": "Vp8z_TlCxdYo"
   },
   "outputs": [],
   "source": [
    "common_user_predicted_ratings.head()"
   ]
  },
  {
   "cell_type": "markdown",
   "metadata": {
    "id": "F0UIDgjfxlgy"
   },
   "source": [
    "### Model Evaluation"
   ]
  },
  {
   "cell_type": "code",
   "execution_count": null,
   "metadata": {
    "executionInfo": {
     "elapsed": 60,
     "status": "aborted",
     "timestamp": 1673505034231,
     "user": {
      "displayName": "mihir mihirpawar",
      "userId": "09074568654888452491"
     },
     "user_tz": -330
    },
    "id": "O1O0kxIExfU2"
   },
   "outputs": [],
   "source": [
    "#Calculate RMSE\n",
    "\n",
    "from sklearn.preprocessing import MinMaxScaler\n",
    "from numpy import *\n",
    "\n",
    "X  = common_user_predicted_ratings.copy() \n",
    "X = X[X>0]\n",
    "\n",
    "scaler = MinMaxScaler(feature_range=(1, 5))\n",
    "print(scaler.fit(X))\n",
    "y = (scaler.transform(X))\n",
    "\n",
    "print(y)"
   ]
  },
  {
   "cell_type": "code",
   "execution_count": null,
   "metadata": {
    "executionInfo": {
     "elapsed": 60,
     "status": "aborted",
     "timestamp": 1673505034231,
     "user": {
      "displayName": "mihir mihirpawar",
      "userId": "09074568654888452491"
     },
     "user_tz": -330
    },
    "id": "E6UD2EJbxsng"
   },
   "outputs": [],
   "source": [
    "common_ = pd.pivot_table(common,index=user_column, columns = product_column, values = value_column)"
   ]
  },
  {
   "cell_type": "code",
   "execution_count": null,
   "metadata": {
    "executionInfo": {
     "elapsed": 61,
     "status": "aborted",
     "timestamp": 1673505034232,
     "user": {
      "displayName": "mihir mihirpawar",
      "userId": "09074568654888452491"
     },
     "user_tz": -330
    },
    "id": "n0TLfrcGxxW2"
   },
   "outputs": [],
   "source": [
    "# Finding total non-NaN value\n",
    "total_non_nan = np.count_nonzero(~np.isnan(y))"
   ]
  },
  {
   "cell_type": "code",
   "execution_count": null,
   "metadata": {
    "executionInfo": {
     "elapsed": 62,
     "status": "aborted",
     "timestamp": 1673505034233,
     "user": {
      "displayName": "mihir mihirpawar",
      "userId": "09074568654888452491"
     },
     "user_tz": -330
    },
    "id": "MwJpdmZrxx_f"
   },
   "outputs": [],
   "source": [
    "rmse = (sum(sum((common_ - y )**2))/total_non_nan)**0.5\n",
    "print(\"RMSE-\")\n",
    "print(rmse)"
   ]
  },
  {
   "cell_type": "markdown",
   "metadata": {
    "id": "p1KBZ-cn4AaQ"
   },
   "source": [
    "# Item Based Recommendation System"
   ]
  },
  {
   "cell_type": "code",
   "execution_count": null,
   "metadata": {
    "executionInfo": {
     "elapsed": 62,
     "status": "aborted",
     "timestamp": 1673505034233,
     "user": {
      "displayName": "mihir mihirpawar",
      "userId": "09074568654888452491"
     },
     "user_tz": -330
    },
    "id": "z8rrLIm1x4DR"
   },
   "outputs": [],
   "source": [
    "df_pivot = pd.pivot_table(train,\n",
    "    index=product_column,\n",
    "    columns=user_column,\n",
    "    values=value_column)\n",
    "\n",
    "df_pivot.head(15)"
   ]
  },
  {
   "cell_type": "code",
   "execution_count": null,
   "metadata": {
    "executionInfo": {
     "elapsed": 63,
     "status": "aborted",
     "timestamp": 1673505034234,
     "user": {
      "displayName": "mihir mihirpawar",
      "userId": "09074568654888452491"
     },
     "user_tz": -330
    },
    "id": "H741BS614MBI"
   },
   "outputs": [],
   "source": [
    "mean = np.nanmean(df_pivot, axis=1)\n",
    "df_subtracted = (df_pivot.T-mean).T"
   ]
  },
  {
   "cell_type": "code",
   "execution_count": null,
   "metadata": {
    "executionInfo": {
     "elapsed": 63,
     "status": "aborted",
     "timestamp": 1673505034235,
     "user": {
      "displayName": "mihir mihirpawar",
      "userId": "09074568654888452491"
     },
     "user_tz": -330
    },
    "id": "qUqjh3i-4PSH"
   },
   "outputs": [],
   "source": [
    "df_subtracted.head()"
   ]
  },
  {
   "cell_type": "markdown",
   "metadata": {
    "id": "vDYYLLl64UBh"
   },
   "source": [
    "### Item Similarity Matrix"
   ]
  },
  {
   "cell_type": "code",
   "execution_count": null,
   "metadata": {
    "executionInfo": {
     "elapsed": 63,
     "status": "aborted",
     "timestamp": 1673505034235,
     "user": {
      "displayName": "mihir mihirpawar",
      "userId": "09074568654888452491"
     },
     "user_tz": -330
    },
    "id": "N1PDrElT4Q_l"
   },
   "outputs": [],
   "source": [
    "item_correlation = 1 - pairwise_distances(df_subtracted.fillna(0), metric='cosine')\n",
    "item_correlation[np.isnan(item_correlation)] = 0\n",
    "print(item_correlation)"
   ]
  },
  {
   "cell_type": "code",
   "execution_count": null,
   "metadata": {
    "executionInfo": {
     "elapsed": 64,
     "status": "aborted",
     "timestamp": 1673505034236,
     "user": {
      "displayName": "mihir mihirpawar",
      "userId": "09074568654888452491"
     },
     "user_tz": -330
    },
    "id": "Uye5Bn2y4YNj"
   },
   "outputs": [],
   "source": [
    "item_correlation[item_correlation<0]=0"
   ]
  },
  {
   "cell_type": "markdown",
   "metadata": {
    "id": "6bJhyIS74eUv"
   },
   "source": [
    "## Prediction - item-item"
   ]
  },
  {
   "cell_type": "code",
   "execution_count": null,
   "metadata": {
    "executionInfo": {
     "elapsed": 62,
     "status": "aborted",
     "timestamp": 1673505034236,
     "user": {
      "displayName": "mihir mihirpawar",
      "userId": "09074568654888452491"
     },
     "user_tz": -330
    },
    "id": "oQ_Jcucu4ikE"
   },
   "outputs": [],
   "source": [
    "item_predicted_ratings = np.dot((df_pivot.fillna(0).T),item_correlation)\n",
    "item_predicted_ratings"
   ]
  },
  {
   "cell_type": "markdown",
   "metadata": {
    "id": "0IYi1Vkg4uJv"
   },
   "source": [
    "## Filtering the rating only for the products not rated by the user for recommendation"
   ]
  },
  {
   "cell_type": "code",
   "execution_count": null,
   "metadata": {
    "executionInfo": {
     "elapsed": 63,
     "status": "aborted",
     "timestamp": 1673505034237,
     "user": {
      "displayName": "mihir mihirpawar",
      "userId": "09074568654888452491"
     },
     "user_tz": -330
    },
    "id": "y159NEFi4pry"
   },
   "outputs": [],
   "source": [
    "item_final_rating = np.multiply(item_predicted_ratings,dummy_train)\n",
    "item_final_rating.head()"
   ]
  },
  {
   "cell_type": "markdown",
   "metadata": {
    "id": "g157hVCK4zKE"
   },
   "source": [
    "## Finding the top 20 recommendation for the user"
   ]
  },
  {
   "cell_type": "code",
   "execution_count": null,
   "metadata": {
    "executionInfo": {
     "elapsed": 63,
     "status": "aborted",
     "timestamp": 1673505034237,
     "user": {
      "displayName": "mihir mihirpawar",
      "userId": "09074568654888452491"
     },
     "user_tz": -330
    },
    "id": "z0hdzMyU4xLD"
   },
   "outputs": [],
   "source": [
    "# Take the user ID as input\n",
    "user_input = 'mike'\n",
    "print(user_input)"
   ]
  },
  {
   "cell_type": "markdown",
   "metadata": {
    "id": "LxxPgt-x45p-"
   },
   "source": [
    "## Recommending the Top 5 products to the user."
   ]
  },
  {
   "cell_type": "code",
   "execution_count": null,
   "metadata": {
    "executionInfo": {
     "elapsed": 64,
     "status": "aborted",
     "timestamp": 1673505034238,
     "user": {
      "displayName": "mihir mihirpawar",
      "userId": "09074568654888452491"
     },
     "user_tz": -330
    },
    "id": "tGIA-6rz42jV"
   },
   "outputs": [],
   "source": [
    "item_recommendations = item_final_rating.loc[user_input].sort_values(ascending=False)[0:20]\n",
    "item_recommendations"
   ]
  },
  {
   "cell_type": "code",
   "execution_count": null,
   "metadata": {
    "executionInfo": {
     "elapsed": 64,
     "status": "aborted",
     "timestamp": 1673505034239,
     "user": {
      "displayName": "mihir mihirpawar",
      "userId": "09074568654888452491"
     },
     "user_tz": -330
    },
    "id": "NYSOcV-O4-qR"
   },
   "outputs": [],
   "source": [
    "item_final_recommendations = pd.DataFrame({'product_id': item_recommendations.index, 'similarity_score' : item_recommendations})\n",
    "item_final_recommendations.reset_index(drop=True)\n",
    "#final_recommendations.drop(['id'], axis=1)\n",
    "pd.merge(item_final_recommendations, train, on=\"id\")[[\"id\", \"name\", \"similarity_score\"]].drop_duplicates()"
   ]
  },
  {
   "cell_type": "markdown",
   "metadata": {
    "id": "H4gguovP5K-M"
   },
   "source": [
    "## Evaluation - item-item"
   ]
  },
  {
   "cell_type": "code",
   "execution_count": null,
   "metadata": {
    "executionInfo": {
     "elapsed": 66,
     "status": "aborted",
     "timestamp": 1673505034241,
     "user": {
      "displayName": "mihir mihirpawar",
      "userId": "09074568654888452491"
     },
     "user_tz": -330
    },
    "id": "fcG-e8Rn5BjP"
   },
   "outputs": [],
   "source": [
    "common =  test[test.id.isin(train.id)]\n",
    "common.shape"
   ]
  },
  {
   "cell_type": "code",
   "execution_count": null,
   "metadata": {
    "executionInfo": {
     "elapsed": 66,
     "status": "aborted",
     "timestamp": 1673505034241,
     "user": {
      "displayName": "mihir mihirpawar",
      "userId": "09074568654888452491"
     },
     "user_tz": -330
    },
    "id": "NcAfdS975NcX"
   },
   "outputs": [],
   "source": [
    "common.head(10)"
   ]
  },
  {
   "cell_type": "code",
   "execution_count": null,
   "metadata": {
    "executionInfo": {
     "elapsed": 67,
     "status": "aborted",
     "timestamp": 1673505034242,
     "user": {
      "displayName": "mihir mihirpawar",
      "userId": "09074568654888452491"
     },
     "user_tz": -330
    },
    "id": "L0akvWh85Qic"
   },
   "outputs": [],
   "source": [
    "common_item_based_matrix = common.pivot_table(index=product_column, columns=user_column, values=value_column)"
   ]
  },
  {
   "cell_type": "code",
   "execution_count": null,
   "metadata": {
    "executionInfo": {
     "elapsed": 68,
     "status": "aborted",
     "timestamp": 1673505034243,
     "user": {
      "displayName": "mihir mihirpawar",
      "userId": "09074568654888452491"
     },
     "user_tz": -330
    },
    "id": "qW0pmHfx5TJF"
   },
   "outputs": [],
   "source": [
    "item_correlation_df = pd.DataFrame(item_correlation)\n",
    "item_correlation_df.head(1)"
   ]
  },
  {
   "cell_type": "code",
   "execution_count": null,
   "metadata": {
    "executionInfo": {
     "elapsed": 68,
     "status": "aborted",
     "timestamp": 1673505034243,
     "user": {
      "displayName": "mihir mihirpawar",
      "userId": "09074568654888452491"
     },
     "user_tz": -330
    },
    "id": "TAyg0i2_5VHc"
   },
   "outputs": [],
   "source": [
    "item_correlation_df[product_column] = df_subtracted.index\n",
    "item_correlation_df.set_index(product_column,inplace=True)\n",
    "item_correlation_df.head()"
   ]
  },
  {
   "cell_type": "code",
   "execution_count": null,
   "metadata": {
    "executionInfo": {
     "elapsed": 69,
     "status": "aborted",
     "timestamp": 1673505034245,
     "user": {
      "displayName": "mihir mihirpawar",
      "userId": "09074568654888452491"
     },
     "user_tz": -330
    },
    "id": "3t4g7khl5YC2"
   },
   "outputs": [],
   "source": [
    "list_name = common.id.tolist()\n",
    "\n",
    "item_correlation_df.columns = df_subtracted.index.tolist()\n",
    "\n",
    "item_correlation_df_1 =  item_correlation_df[item_correlation_df.index.isin(list_name)]\n",
    "\n",
    "\n",
    "item_correlation_df_2 = item_correlation_df_1.T[item_correlation_df_1.T.index.isin(list_name)]\n",
    "\n",
    "item_correlation_df_3 = item_correlation_df_2.T"
   ]
  },
  {
   "cell_type": "code",
   "execution_count": null,
   "metadata": {
    "executionInfo": {
     "elapsed": 71,
     "status": "aborted",
     "timestamp": 1673505034247,
     "user": {
      "displayName": "mihir mihirpawar",
      "userId": "09074568654888452491"
     },
     "user_tz": -330
    },
    "id": "xzysqybc5gb5"
   },
   "outputs": [],
   "source": [
    "df_subtracted"
   ]
  },
  {
   "cell_type": "code",
   "execution_count": null,
   "metadata": {
    "executionInfo": {
     "elapsed": 73,
     "status": "aborted",
     "timestamp": 1673505034249,
     "user": {
      "displayName": "mihir mihirpawar",
      "userId": "09074568654888452491"
     },
     "user_tz": -330
    },
    "id": "irZ_yE7t5i2s"
   },
   "outputs": [],
   "source": [
    "item_correlation_df_3[item_correlation_df_3<0]=0\n",
    "\n",
    "common_item_predicted_ratings = np.dot(item_correlation_df_3, common_item_based_matrix.fillna(0))\n",
    "common_item_predicted_ratings"
   ]
  },
  {
   "cell_type": "code",
   "execution_count": null,
   "metadata": {
    "executionInfo": {
     "elapsed": 75,
     "status": "aborted",
     "timestamp": 1673505034251,
     "user": {
      "displayName": "mihir mihirpawar",
      "userId": "09074568654888452491"
     },
     "user_tz": -330
    },
    "id": "HDjnKXAW5ln8"
   },
   "outputs": [],
   "source": [
    "dummy_test = common.copy()\n",
    "dummy_test[value_column] = dummy_test[value_column].apply(lambda x: 1 if x>=1 else 0)\n",
    "dummy_test = pd.pivot_table(dummy_test, index=product_column, columns=user_column, values=value_column).fillna(0)\n",
    "common_item_predicted_ratings = np.multiply(common_item_predicted_ratings,dummy_test)"
   ]
  },
  {
   "cell_type": "code",
   "execution_count": null,
   "metadata": {
    "executionInfo": {
     "elapsed": 76,
     "status": "aborted",
     "timestamp": 1673505034252,
     "user": {
      "displayName": "mihir mihirpawar",
      "userId": "09074568654888452491"
     },
     "user_tz": -330
    },
    "id": "ErqWklu_5ock"
   },
   "outputs": [],
   "source": [
    "common_ = pd.pivot_table(common,index=product_column, columns=user_column, values=value_column)"
   ]
  },
  {
   "cell_type": "markdown",
   "metadata": {
    "id": "s0oUICuX6LXP"
   },
   "source": [
    "### Model Evaluation"
   ]
  },
  {
   "cell_type": "code",
   "execution_count": null,
   "metadata": {
    "executionInfo": {
     "elapsed": 77,
     "status": "aborted",
     "timestamp": 1673505034253,
     "user": {
      "displayName": "mihir mihirpawar",
      "userId": "09074568654888452491"
     },
     "user_tz": -330
    },
    "id": "ZbqVUStC5rAT"
   },
   "outputs": [],
   "source": [
    "X  = common_item_predicted_ratings.copy() \n",
    "X = X[X>0]\n",
    "\n",
    "scaler = MinMaxScaler(feature_range=(1, 5))\n",
    "print(scaler.fit(X))\n",
    "y = (scaler.transform(X))\n",
    "\n",
    "print(y)"
   ]
  },
  {
   "cell_type": "code",
   "execution_count": null,
   "metadata": {
    "executionInfo": {
     "elapsed": 78,
     "status": "aborted",
     "timestamp": 1673505034254,
     "user": {
      "displayName": "mihir mihirpawar",
      "userId": "09074568654888452491"
     },
     "user_tz": -330
    },
    "id": "JA2HSxZc55MV"
   },
   "outputs": [],
   "source": [
    "# Finding total non-NaN value\n",
    "total_non_nan = np.count_nonzero(~np.isnan(y))"
   ]
  },
  {
   "cell_type": "code",
   "execution_count": null,
   "metadata": {
    "executionInfo": {
     "elapsed": 77,
     "status": "aborted",
     "timestamp": 1673505034254,
     "user": {
      "displayName": "mihir mihirpawar",
      "userId": "09074568654888452491"
     },
     "user_tz": -330
    },
    "id": "RhQDsaQA57lS"
   },
   "outputs": [],
   "source": [
    "rmse = (sum(sum((common_ - y )**2))/total_non_nan)**0.5\n",
    "print(\"RMSE-\")\n",
    "print(rmse)"
   ]
  },
  {
   "cell_type": "markdown",
   "metadata": {
    "id": "wybJwfIK6XqY"
   },
   "source": [
    "## Observation - \n",
    "- On comparing the RMSE values of User Based Recommender and Item Based Recommender, User based recommendation model seems to be better in this case, as it has a lower RMSE value."
   ]
  },
  {
   "cell_type": "markdown",
   "metadata": {
    "id": "LV51ykQy6nCZ"
   },
   "source": [
    "### saving the correlation matrix of user based recommender "
   ]
  },
  {
   "cell_type": "code",
   "execution_count": null,
   "metadata": {
    "executionInfo": {
     "elapsed": 78,
     "status": "aborted",
     "timestamp": 1673505034255,
     "user": {
      "displayName": "mihir mihirpawar",
      "userId": "09074568654888452491"
     },
     "user_tz": -330
    },
    "id": "uHn2OsNB6QpZ"
   },
   "outputs": [],
   "source": [
    "save_object(user_final_rating, \"user_final_rating\")"
   ]
  },
  {
   "cell_type": "markdown",
   "metadata": {
    "id": "rZG6ZMwG8rrg"
   },
   "source": [
    "# Top Product Recommendations\n",
    " - Recommendation of 20 products and filtering by sentiment model"
   ]
  },
  {
   "cell_type": "code",
   "execution_count": null,
   "metadata": {
    "executionInfo": {
     "elapsed": 79,
     "status": "aborted",
     "timestamp": 1673505034256,
     "user": {
      "displayName": "mihir mihirpawar",
      "userId": "09074568654888452491"
     },
     "user_tz": -330
    },
    "id": "LZkJtlRR87mx"
   },
   "outputs": [],
   "source": [
    "def Sentiment_Recommendations(user):\n",
    "    if (user in user_final_rating.index):\n",
    "        # get the product recommedation using the trained ML model\n",
    "        recommendations = list(user_final_rating.loc[user].sort_values(ascending=False)[0:20].index)\n",
    "        temp = df_clean[df_clean.id.isin(recommendations)]\n",
    "        #temp[\"reviews_text_cleaned\"] = temp[\"reviews_text\"].apply(lambda x: self.preprocess_text(x))\n",
    "        #transfor the input data using saved tf-idf vectorizer\n",
    "        X =  tfidf_vectorizer.transform(temp[\"reviews_text_cleaned\"].values.astype(str))\n",
    "        temp[\"predicted_sentiment\"]= mnb.predict(X)\n",
    "        temp = temp[['name','predicted_sentiment']]\n",
    "        temp_grouped = temp.groupby('name', as_index=False).count()\n",
    "        temp_grouped[\"pos_review_count\"] = temp_grouped.name.apply(lambda x: temp[(temp.name==x) & (temp.predicted_sentiment==1)][\"predicted_sentiment\"].count())\n",
    "        temp_grouped[\"total_review_count\"] = temp_grouped['predicted_sentiment']\n",
    "        temp_grouped['pos_sentiment_percent'] = np.round(temp_grouped[\"pos_review_count\"]/temp_grouped[\"total_review_count\"]*100,2)\n",
    "        return temp_grouped.sort_values('pos_sentiment_percent', ascending=False)\n",
    "    else:\n",
    "        print(f\"User name {user} doesn't exist\")"
   ]
  },
  {
   "cell_type": "code",
   "execution_count": null,
   "metadata": {
    "executionInfo": {
     "elapsed": 80,
     "status": "aborted",
     "timestamp": 1673505034257,
     "user": {
      "displayName": "mihir mihirpawar",
      "userId": "09074568654888452491"
     },
     "user_tz": -330
    },
    "id": "bFxpC7er9CVA"
   },
   "outputs": [],
   "source": [
    "#testing the above fuction using one of the users that's trained on.\n",
    "Sentiment_Recommendations(\"mike\")"
   ]
  },
  {
   "cell_type": "markdown",
   "metadata": {
    "id": "iRhRirAR9fUC"
   },
   "source": [
    "## Top 5 Recommendations"
   ]
  },
  {
   "cell_type": "code",
   "execution_count": null,
   "metadata": {
    "executionInfo": {
     "elapsed": 80,
     "status": "aborted",
     "timestamp": 1673505034257,
     "user": {
      "displayName": "mihir mihirpawar",
      "userId": "09074568654888452491"
     },
     "user_tz": -330
    },
    "id": "1AZBL3RL9E-A"
   },
   "outputs": [],
   "source": [
    "Sentiment_Recommendations(\"mike\")[:5]"
   ]
  },
  {
   "cell_type": "markdown",
   "metadata": {
    "id": "GGOkDLg39zg4"
   },
   "source": [
    "### Testing the above fuction on the user that doesn't exists or a new user"
   ]
  },
  {
   "cell_type": "code",
   "execution_count": null,
   "metadata": {
    "executionInfo": {
     "elapsed": 81,
     "status": "aborted",
     "timestamp": 1673505034258,
     "user": {
      "displayName": "mihir mihirpawar",
      "userId": "09074568654888452491"
     },
     "user_tz": -330
    },
    "id": "wOI3xlD29qOr"
   },
   "outputs": [],
   "source": [
    "Sentiment_Recommendations(\"test_USER\")"
   ]
  },
  {
   "cell_type": "code",
   "execution_count": null,
   "metadata": {
    "executionInfo": {
     "elapsed": 81,
     "status": "aborted",
     "timestamp": 1673505034259,
     "user": {
      "displayName": "mihir mihirpawar",
      "userId": "09074568654888452491"
     },
     "user_tz": -330
    },
    "id": "LKPy--1CPN4z"
   },
   "outputs": [],
   "source": []
  }
 ],
 "metadata": {
  "colab": {
   "authorship_tag": "ABX9TyNfzI8b83G85roBWo7n7Bz0",
   "mount_file_id": "1F4ygexODfICRp5AAKzpqqXOkjtZhxRt5",
   "provenance": []
  },
  "kernelspec": {
   "display_name": "Python 3",
   "language": "python",
   "name": "python3"
  },
  "language_info": {
   "codemirror_mode": {
    "name": "ipython",
    "version": 3
   },
   "file_extension": ".py",
   "mimetype": "text/x-python",
   "name": "python",
   "nbconvert_exporter": "python",
   "pygments_lexer": "ipython3",
   "version": "3.7.6"
  }
 },
 "nbformat": 4,
 "nbformat_minor": 1
}
